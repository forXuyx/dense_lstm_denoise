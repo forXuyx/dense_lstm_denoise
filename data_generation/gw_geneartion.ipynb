{
 "cells": [
  {
   "cell_type": "markdown",
   "metadata": {},
   "source": [
    "# Define GW generator"
   ]
  },
  {
   "cell_type": "code",
   "execution_count": 1,
   "metadata": {},
   "outputs": [],
   "source": [
    "import numpy as np\n",
    "import cupy as cp\n",
    "import matplotlib.pyplot as plt\n",
    "import math\n",
    "from scipy import integrate\n",
    "import scipy.optimize as optim\n",
    "\n",
    "from tqdm import tqdm\n",
    "import random\n",
    "from numpy.fft import fft, fftfreq, ifft"
   ]
  },
  {
   "cell_type": "code",
   "execution_count": 2,
   "metadata": {},
   "outputs": [],
   "source": [
    "C = 299792458.\n",
    "G = 6.67e-11\n",
    "MPC = 3.0857e22\n",
    "MSUN = 1.989e30\n",
    "AU = 1.496e11\n",
    "YEAR = 31558149.763545603"
   ]
  },
  {
   "cell_type": "code",
   "execution_count": 3,
   "metadata": {},
   "outputs": [
    {
     "name": "stderr",
     "output_type": "stream",
     "text": [
      "/home/niuniu10/miniconda3/envs/cppcuda/lib/python3.9/site-packages/pycbc/types/array.py:36: UserWarning: Wswiglal-redir-stdio:\n",
      "\n",
      "SWIGLAL standard output/error redirection is enabled in IPython.\n",
      "This may lead to performance penalties. To disable locally, use:\n",
      "\n",
      "with lal.no_swig_redirect_standard_output_error():\n",
      "    ...\n",
      "\n",
      "To disable globally, use:\n",
      "\n",
      "lal.swig_redirect_standard_output_error(True)\n",
      "\n",
      "Note however that this will likely lead to error messages from\n",
      "LAL functions being either misdirected or lost when called from\n",
      "Jupyter notebooks.\n",
      "\n",
      "To suppress this warning, use:\n",
      "\n",
      "import warnings\n",
      "warnings.filterwarnings(\"ignore\", \"Wswiglal-redir-stdio\")\n",
      "import lal\n",
      "\n",
      "  import lal as _lal\n"
     ]
    }
   ],
   "source": [
    "import pycbc.waveform as wf\n",
    "from scipy.interpolate import InterpolatedUnivariateSpline\n",
    "\n",
    "\n",
    "# Converting between m1, q, M, eta, Mc, mu, where m1 >= m2, q = m2 / m1 <= 1, eta <= 0.25\n",
    "def eta_q(q):\n",
    "    return q / (1. + q) ** 2\n",
    "\n",
    "def q_eta(eta):\n",
    "    if eta == 1. / 4.:\n",
    "        return 1.\n",
    "    else:\n",
    "        return (1. - 2. * eta - np.sqrt(1. - 4. * eta)) / 2. / eta\n",
    "\n",
    "def M_m1_q(m1, q):\n",
    "    return m1 * (1. + q)\n",
    "\n",
    "def Mc_m1_q(m1, q):\n",
    "    m2 = m1 * q\n",
    "    return (m1 * m2) ** (3. / 5.) / (m1 + m2) ** (1. / 5.)\n",
    "\n",
    "def mu_m1_q(m1, q):\n",
    "    m2 = m1 * q\n",
    "    return m1 * m2 / (m1 + m2)\n",
    "\n",
    "def q_Mc_mu(Mc, mu):\n",
    "    temp = (Mc / mu) ** (5. / 2.)\n",
    "    return np.abs((temp - 2.) - np.sqrt(temp * np.abs(temp - 4.))) / 2\n",
    "\n",
    "def m1_Mc_mu(Mc, mu):\n",
    "    q = q_Mc_mu(Mc, mu)\n",
    "    return mu * (1. + q) / q\n",
    "\n",
    "def m1_Mc_q(Mc, q):\n",
    "    return Mc / (q ** 3 / (1. + q)) ** 0.2\n",
    "\n",
    "def mu_Mc_q(Mc, q):\n",
    "    m1 = m1_Mc_q(Mc, q)\n",
    "    return q / (1. + q) * m1\n",
    "\n",
    "def Mc_M_eta(M, eta):\n",
    "    return eta ** 0.6 * M\n",
    "\n",
    "def fISCO(parWF): \n",
    "    Mc, mu, tc, phic, D, inc = parWF\n",
    "    m1 = m1_Mc_mu(Mc, mu)\n",
    "    q = q_Mc_mu(Mc, mu)\n",
    "    M = m1 * (1. + q)\n",
    "    return C ** 3 / 6. ** (3. / 2.) / np.pi / G / M / MSUN\n",
    "\n",
    "def tf(f, parWF): # leading order PN\n",
    "    Mc, mu, tc, phic, D, inc = parWF\n",
    "    Mc = Mc * MSUN\n",
    "    return tc - (8. * np.pi / 5. * (5. * G * Mc / C ** 3) ** (5. / 8.) * f) ** (-8. / 3.) \n",
    "\n",
    "def tISCO(parWF): # leading order PN\n",
    "    return tf(fISCO(parWF), parWF)"
   ]
  },
  {
   "cell_type": "code",
   "execution_count": 4,
   "metadata": {},
   "outputs": [],
   "source": [
    "class MBHBWaveform():\n",
    "    def __init__(self, approx_method = 'SEOBNRv4_opt', f_lower = None): \n",
    "        self.approx_method = approx_method\n",
    "        self.f_lower = f_lower\n",
    "        \n",
    "    def __call__(self, Mc, q, a1, a2, tc, phic, D, inc, psi, T=1., dt=10.):\n",
    "        \"\"\" \n",
    "        Mc in [MSUN]\n",
    "        tc in [s]\n",
    "        D in [Mpc]\n",
    "        \"\"\"\n",
    "        m1 = m1_Mc_q(Mc, q)\n",
    "        m2 = m1 * q\n",
    "        Tobs = tc / YEAR\n",
    "        if self.f_lower == None: # calculate the lower limit of frequency to the leading order\n",
    "            f_lower = 1.75e-5 * (Mc / 1e6) ** (-5. / 8.) * (Tobs / 10.) ** (-3. / 8.)\n",
    "            f_lower = f_lower / 2. # for safty\n",
    "        else:\n",
    "            f_lower = self.f_lower\n",
    "              \n",
    "        # source frame waveform data \n",
    "        hp, hc = wf.get_td_waveform(approximant = self.approx_method, mass1 = m1, mass2 = m2, \\\n",
    "                                    spin1z = a1, spin2z = a2, coa_phase = phic, inclination = inc, \\\n",
    "                                    delta_t = dt, f_lower = f_lower, distance = D)\n",
    "        hp, hc = hp.trim_zeros(), hc.trim_zeros()\n",
    "        hSp_data = np.array(hp)\n",
    "        hSc_data = np.array(hc)\n",
    "        t_data = np.array(hp.sample_times) + tc\n",
    "        \n",
    "        \n",
    "        # get interpolation functions\n",
    "        hSp_func = InterpolatedUnivariateSpline(x=t_data, y=hSp_data, k=5, ext='zeros')\n",
    "        hSc_func = InterpolatedUnivariateSpline(x=t_data, y=hSc_data, k=5, ext='zeros')\n",
    "        \n",
    "        # convert to SSB frame waveform \n",
    "        t = np.arange(0.0, T * YEAR, dt)\n",
    "        cos2psi = np.cos(2.0 * psi)\n",
    "        sin2psi = np.sin(2.0 * psi)\n",
    "\n",
    "        hSp = hSp_func(t)\n",
    "        hSc = hSc_func(t)\n",
    "\n",
    "        hp = hSp * cos2psi - hSc * sin2psi\n",
    "        hc = hSp * sin2psi + hSc * cos2psi\n",
    "\n",
    "        return hp + 1j * hc"
   ]
  },
  {
   "cell_type": "code",
   "execution_count": 5,
   "metadata": {},
   "outputs": [],
   "source": [
    "def CutJumpPointsForTDI2(chans, Mc, tc, t):\n",
    "    \"\"\"  \n",
    "    only suitable for Mc in [1e5, 1e7], q in [0.1, 1]\n",
    "    t, tc in [s]\n",
    "    Mc in [MSUN]\n",
    "    \"\"\" \n",
    "    cut_idx = np.where(t >= (1.4e-8 * Mc * DAY + tc))[0][0] # empirical value\n",
    "    new_chans = []\n",
    "    for chan in chans:\n",
    "        chan[cut_idx:] = 0.\n",
    "        new_chans.append(chan)\n",
    "    return new_chans "
   ]
  },
  {
   "cell_type": "code",
   "execution_count": 6,
   "metadata": {},
   "outputs": [],
   "source": [
    "import h5py\n",
    "from fastlisaresponse import pyResponseTDI, ResponseWrapper\n",
    "# from astropy import units as un\n",
    "\n",
    "YEAR = 31558149.763545603\n",
    "SECOND = 1 / YEAR\n",
    "DAY = 24 * 60 * 60 * SECOND"
   ]
  },
  {
   "cell_type": "code",
   "execution_count": 7,
   "metadata": {},
   "outputs": [],
   "source": [
    "use_gpu = True\n",
    "T = 160000 * SECOND  # duration of the signal\n",
    "t0 = 10000.0  # time at which signal starts (chops off data at start of waveform where information is not correct)\n",
    "sampling_frequency = 0.1\n",
    "dt = 1 / sampling_frequency\n",
    "total_len = int(T * YEAR / dt)"
   ]
  },
  {
   "cell_type": "code",
   "execution_count": 8,
   "metadata": {},
   "outputs": [],
   "source": [
    "# order of the langrangian interpolation\n",
    "order = 25\n",
    "\n",
    "# orbit_file_esa = \"../orbit_files/esa-trailing-orbits.h5\"\n",
    "orbit_file_esa = \"TaijiEqualArm.hdf5\"\n",
    "\n",
    "orbit_kwargs_esa = dict(orbit_file=orbit_file_esa)\n",
    "\n",
    "# 1st or 2nd or custom (see docs for custom)\n",
    "tdi_gen = \"2nd generation\"\n",
    "# tdi_gen = '1st generation'\n",
    "\n",
    "index_lambda = 9\n",
    "index_beta = 10\n",
    "\n",
    "tdi_kwargs_esa = dict(\n",
    "    orbit_kwargs=orbit_kwargs_esa, order=order, tdi=tdi_gen, tdi_chan=\"AET\",\n",
    ")\n",
    "\n",
    "mbhb = MBHBWaveform()\n",
    "\n",
    "mbhb_taiji = ResponseWrapper(\n",
    "    mbhb,\n",
    "    T + 2*(t0)*SECOND,\n",
    "    dt,\n",
    "    index_lambda,\n",
    "    index_beta,\n",
    "    t0=t0,\n",
    "    flip_hx=False,  # set to True if waveform is h+ - ihx\n",
    "    use_gpu=use_gpu,\n",
    "    remove_sky_coords=True,  # True if the waveform generator does not take sky coordinates\n",
    "    is_ecliptic_latitude=True,  # False if using polar angle (theta)\n",
    "    remove_garbage=True,  # removes the beginning of the signal that has bad information\n",
    "    **tdi_kwargs_esa,\n",
    ")"
   ]
  },
  {
   "cell_type": "code",
   "execution_count": 9,
   "metadata": {},
   "outputs": [],
   "source": [
    "class Constant:\n",
    "    MSUN_SI = 1.98848e30\n",
    "    YRSID_SI = 31558149.763545603\n",
    "    AU_SI = 149597870700.0\n",
    "    C_SI = 299792458.0\n",
    "    G_SI = 6.674080e-11\n",
    "    GMSUN = 1.3271244210789466e20\n",
    "    MTSUN_SI = 4.925491025873693e-06\n",
    "    MRSUN_SI = 1476.6250615036158\n",
    "    PC_SI = 3.0856775814913674e16\n",
    "    PI = 3.141592653589793238462643383279502884\n",
    "    PI_2 = 1.570796326794896619231321691639751442\n",
    "    PI_3 = 1.047197551196597746154214461093167628\n",
    "    PI_4 = 0.785398163397448309615660845819875721\n",
    "    SQRTPI = 1.772453850905516027298167483341145183\n",
    "    SQRTTWOPI = 2.506628274631000502415765284811045253\n",
    "    INVSQRTPI = 0.564189583547756286948079451560772585\n",
    "    INVSQRTTWOPI = 0.398942280401432677939946059934381868\n",
    "    GAMMA = 0.577215664901532860606512090082402431\n",
    "    SQRT2 = 1.414213562373095048801688724209698079\n",
    "    SQRT3 = 1.732050807568877293527446341505872367\n",
    "    SQRT6 = 2.449489742783178098197284074705891392\n",
    "    INVSQRT2 = 0.707106781186547524400844362104849039\n",
    "    INVSQRT3 = 0.577350269189625764509148780501957455\n",
    "    INVSQRT6 = 0.408248290463863016366214012450981898\n",
    "    F0 = 3.168753578687779e-08\n",
    "    Omega0 = 1.9909865927683788e-07\n",
    "    Omegam = 0.3175\n",
    "    Omegalam = 0.6825\n",
    "    H0 = 67.1\n",
    "    H0_SI = H0 * 1000 / (1e6 * PC_SI)\n",
    "    EPS = 1e-8\n",
    "    # L_SI = 2.5e9\n",
    "    # eorbit = 0.004824185218078991\n",
    "    # ConstOmega = 1.99098659277e-7"
   ]
  },
  {
   "cell_type": "code",
   "execution_count": 10,
   "metadata": {},
   "outputs": [],
   "source": [
    "class Cosmology(object):\n",
    "    @staticmethod\n",
    "    def H(zp, w):\n",
    "        fn = 1.0 / (Constant.H0 * math.sqrt(Constant.Omegam * math.pow(1.0 + zp, 3.0) + Constant.Omegalam * math.pow(1.0 + zp, 3.0 * w)))\n",
    "        return fn\n",
    "\n",
    "    @staticmethod\n",
    "    def DL(zup, w):\n",
    "        \"\"\"\n",
    "        Usage: DL(3,w=0)[0]\n",
    "        \"\"\"\n",
    "        pd = integrate.quad(Cosmology.H, 0.0, zup, args=(w))[0]\n",
    "        res = (1.0 + zup) * pd  # in Mpc\n",
    "        return res * Constant.C_SI * 1.0e-3, pd * Constant.C_SI * 1.0e-3\n",
    "\n",
    "    @staticmethod\n",
    "    def findz(zm, dlum, ww):\n",
    "        \"\"\"f-n needed for finding z for given DL, w\"\"\"\n",
    "        dofzm = Cosmology.DL(zm, ww)\n",
    "        return dlum - dofzm[0]\n",
    "\n",
    "    @staticmethod\n",
    "    def zofDl(DL, w, tolerance):\n",
    "        \"\"\"computes z(DL, w), Assumes DL in Mpc\"\"\"\n",
    "        if tolerance > 1.0e-4:\n",
    "            tolerance = 1.0e-4\n",
    "        zguess = DL / 6.6e3\n",
    "        zres = optim.fsolve(Cosmology.findz, zguess, args=(DL, 0.0), xtol=tolerance)\n",
    "        return zres"
   ]
  },
  {
   "cell_type": "markdown",
   "metadata": {},
   "source": [
    "# Generate {numsample} data"
   ]
  },
  {
   "cell_type": "code",
   "execution_count": 11,
   "metadata": {},
   "outputs": [],
   "source": [
    "numsample = 10000 # modify this to contral num\n",
    "raw_signal = np.zeros((numsample, 2, total_len))\n",
    "raw_noise = np.zeros((numsample, 2, total_len))\n",
    "whiten_signal = np.zeros((numsample, 2, total_len))\n",
    "whiten_noise = np.zeros((numsample, 2, total_len))\n",
    "raw_params = np.zeros((numsample, 4))"
   ]
  },
  {
   "cell_type": "code",
   "execution_count": 12,
   "metadata": {},
   "outputs": [],
   "source": [
    "# constants\n",
    "C = 299792458.\n",
    "G = 6.67e-11\n",
    "MPC = 3.0857e22\n",
    "MSUN = 1.989e30\n",
    "AU = 1.496e11\n",
    "\n",
    "F_LASER = 3e14 \n",
    "\n",
    "# Taiji params\n",
    "L_TJ = 3e9\n",
    "SACC_TJ = 3e-15\n",
    "SOPT_TJ = 8e-12\n",
    "\n",
    "# LISA params\n",
    "L_LISA = 2.5e9\n",
    "SACC_LISA = 3e-15\n",
    "SOPT_LISA = 1e-11\n",
    "\n",
    "# Cosmology\n",
    "OmegaM = 0.3111\n",
    "H0 = 67.66"
   ]
  },
  {
   "cell_type": "code",
   "execution_count": 13,
   "metadata": {},
   "outputs": [],
   "source": [
    "class PSD_y():\n",
    "    \"\"\"\n",
    "    PSD in the fractional frequency difference unit\n",
    "    \"\"\"\n",
    "    def __init__(self, sacc = SACC_TJ, sopt = SOPT_TJ, L = L_TJ): # default Taiji [sacc] = acceleration, [sopt] = distance\n",
    "        self.sa = sacc\n",
    "        self.so = sopt\n",
    "        self.L = L\n",
    "\n",
    "    def PSD_Sa(self, f): \n",
    "        u = 2. * np.pi * f * self.L / C\n",
    "        return (self.sa * self.L / u / C ** 2) ** 2 * (1. + (0.4e-3 / f) ** 2) * (1. + (f / 8e-3) ** 4)\n",
    "\n",
    "    def PSD_So(self, f):\n",
    "        u = 2. * np.pi * f * self.L / C\n",
    "        return (u * self.so / self.L) ** 2 * (1. + (2e-3 / f) ** 4)\n",
    "\n",
    "    def PSD_X(self, f): # self.sa, self.so are the asd of acc and opt noise, WTN and wang and Vallisneri\n",
    "        u = 2. * np.pi * f * self.L / C\n",
    "        Sa = self.PSD_Sa(f)\n",
    "        So = self.PSD_So(f)\n",
    "        return Sa * (8. * (np.sin(2. * u)) ** 2 + 32. * (np.sin(u)) ** 2) \\\n",
    "                + 16. * So * (np.sin(u)) ** 2\n",
    "    \n",
    "    def PSD_X2(self, f):\n",
    "        u = 2. * np.pi * f * self.L / C\n",
    "        Sa = self.PSD_Sa(f)\n",
    "        So = self.PSD_So(f)\n",
    "        return 64. * (np.sin(2. * u)) ** 2 * (np.sin(u)) ** 2 * (So + (3. + np.cos(2. * u)) * Sa)        \n",
    "\n",
    "    def PSD_A(self, f): # WTN\n",
    "        u = 2. * np.pi * f * self.L / C\n",
    "        Sa = self.PSD_Sa(f)\n",
    "        So = self.PSD_So(f)\n",
    "        return 8. * So * (2. + np.cos(u)) * (np.sin(u)) ** 2 \\\n",
    "                + 16. * Sa * (3. + 2. * np.cos(u) + np.cos(2. * u)) * (np.sin(u)) ** 2\n",
    "    \n",
    "    def PSD_A2(self, f):\n",
    "        u = 2. * np.pi * f * self.L / C\n",
    "        Sa = self.PSD_Sa(f)\n",
    "        So = self.PSD_So(f)\n",
    "        return (8. * So * (2. + np.cos(u)) * (np.sin(u)) ** 2 \\\n",
    "                + 16. * Sa * (3. + 2. * np.cos(u) + np.cos(2. * u)) * (np.sin(u)) ** 2) * 4. * np.sin(2. * u) ** 2\n",
    "\n",
    "    def PSD_T(self, f): # WTN\n",
    "        u = 2. * np.pi * f * self.L / C\n",
    "        Sa = self.PSD_Sa(f)\n",
    "        So = self.PSD_So(f)\n",
    "        return 16. * So * (1. - np.cos(u)) * (np.sin(u)) ** 2 \\\n",
    "                + 128. * Sa * (np.sin(u)) ** 2 * (np.sin(u / 2.)) ** 4"
   ]
  },
  {
   "cell_type": "code",
   "execution_count": 14,
   "metadata": {},
   "outputs": [],
   "source": [
    "from numpy.fft import fft, fftfreq, ifft\n",
    "def NoiseFromPSD(psd_func, t_arr):\n",
    "    \"\"\"\n",
    "    generate noise in the time domain at time array t_arr\n",
    "    psd_func should be a function which can be called with:  psd_func(freq array) \n",
    "    \"\"\"\n",
    "    tsample = t_arr[1] - t_arr[0]\n",
    "    N = len(t_arr)\n",
    "    sigma0 = np.sqrt(1. / 2. / tsample)\n",
    "    n0 = np.random.normal(0, sigma0, N)\n",
    "    n0f = fft(n0)\n",
    "    f_arr = fftfreq(N, d = tsample)\n",
    "    asd_arr = np.sqrt(psd_func(np.abs(f_arr[1:])))\n",
    "    asd_arr = np.insert(asd_arr, 0, 0)  \n",
    "    n1f = n0f * asd_arr\n",
    "    n1 = np.real(ifft(n1f))\n",
    "    return n1"
   ]
  },
  {
   "cell_type": "code",
   "execution_count": 15,
   "metadata": {},
   "outputs": [],
   "source": [
    "t = np.arange(0, total_len, 1) / sampling_frequency\n",
    "PSD = PSD_y()\n",
    "psd_func = PSD.PSD_A2"
   ]
  },
  {
   "cell_type": "code",
   "execution_count": 16,
   "metadata": {},
   "outputs": [
    {
     "name": "stderr",
     "output_type": "stream",
     "text": [
      "/tmp/ipykernel_1717865/3196896256.py:12: RuntimeWarning: divide by zero encountered in divide\n",
      "  return (self.sa * self.L / u / C ** 2) ** 2 * (1. + (0.4e-3 / f) ** 2) * (1. + (f / 8e-3) ** 4)\n",
      "/tmp/ipykernel_1717865/3196896256.py:16: RuntimeWarning: divide by zero encountered in divide\n",
      "  return (u * self.so / self.L) ** 2 * (1. + (2e-3 / f) ** 4)\n",
      "/tmp/ipykernel_1717865/3196896256.py:16: RuntimeWarning: invalid value encountered in multiply\n",
      "  return (u * self.so / self.L) ** 2 * (1. + (2e-3 / f) ** 4)\n",
      "/tmp/ipykernel_1717865/3196896256.py:43: RuntimeWarning: invalid value encountered in multiply\n",
      "  + 16. * Sa * (3. + 2. * np.cos(u) + np.cos(2. * u)) * (np.sin(u)) ** 2) * 4. * np.sin(2. * u) ** 2\n"
     ]
    }
   ],
   "source": [
    "# signal parameters\n",
    "f_arr_signal = fftfreq(total_len, d = 10)\n",
    "psd_signal = psd_func(f_arr_signal)\n",
    "psd_signal = psd_signal[:total_len // 2 + 1]"
   ]
  },
  {
   "cell_type": "code",
   "execution_count": 17,
   "metadata": {},
   "outputs": [],
   "source": [
    "def tukey(M, alpha=0.5):\n",
    "    n = np.arange(0, M)\n",
    "    width = int(np.floor(alpha * (M - 1) / 2.0))\n",
    "    n1 = n[0 : width + 1]\n",
    "    n2 = n[width + 1 : M - width - 1]\n",
    "    n3 = n[M - width - 1 :]\n",
    "\n",
    "    w1 = 0.5 * (1 + np.cos(np.pi * (-1 + 2.0 * n1 / alpha / (M - 1))))\n",
    "    w2 = np.ones(n2.shape)\n",
    "    w3 = 0.5 * (1 + np.cos(np.pi * (-2.0 / alpha + 1 + 2.0 * n3 / alpha / (M - 1))))\n",
    "    w = np.concatenate((w1, w2, w3))\n",
    "\n",
    "    return np.array(w[:M])"
   ]
  },
  {
   "cell_type": "code",
   "execution_count": 18,
   "metadata": {},
   "outputs": [],
   "source": [
    "def whiten_data(signal, psd):\n",
    "    idx = np.argwhere(psd >= 1e-45)\n",
    "    win = tukey(len(signal), alpha=1.0 / 8.0)\n",
    "    xf = np.fft.rfft(win * signal)\n",
    "    invpsd = np.zeros(psd.size)\n",
    "    invpsd[idx] = 1.0 / psd[idx]\n",
    "    xf *= np.sqrt(invpsd)\n",
    "    xf[0] = 0.0\n",
    "    x = np.fft.irfft(xf)\n",
    "    return x"
   ]
  },
  {
   "cell_type": "code",
   "execution_count": 19,
   "metadata": {},
   "outputs": [],
   "source": [
    "def get_whiten_mf_snr(data, T_obs, fs=0.1, fmin=1e-5):\n",
    "    \"\"\"\n",
    "    computes the snr of a signal given a PSD starting from a particular frequency index\n",
    "    \"\"\"\n",
    "    N = int(T_obs * fs)\n",
    "    df = 1.0 / T_obs\n",
    "    dt = 1.0 / fs\n",
    "    fidx = int(fmin / df)\n",
    "\n",
    "    win = tukey(N, alpha=1.0 / 8.0)\n",
    "\n",
    "    xf = np.fft.rfft(data * win) * dt\n",
    "    invpsd = np.ones(xf.size)\n",
    "\n",
    "    SNRsq = (4.0 * np.sum((np.abs(xf[fidx:]) ** 2) * invpsd[fidx:]) * df)\n",
    "    return np.sqrt(SNRsq)"
   ]
  },
  {
   "cell_type": "code",
   "execution_count": 20,
   "metadata": {},
   "outputs": [],
   "source": [
    "# mkdir for saving data\n",
    "import os\n",
    "if not os.path.exists('../data/GW/clean'):\n",
    "    os.makedirs('../data/GW/clean')\n",
    "if not os.path.exists('../data/GW/noisy'):\n",
    "    os.makedirs('../data/GW/noisy')"
   ]
  },
  {
   "cell_type": "code",
   "execution_count": 23,
   "metadata": {},
   "outputs": [
    {
     "name": "stderr",
     "output_type": "stream",
     "text": [
      "  0%|          | 2/10000 [00:00<14:10, 11.76it/s]"
     ]
    },
    {
     "name": "stdout",
     "output_type": "stream",
     "text": [
      "now_snr: 213.9206316587588, target_snr: 50\n",
      "now_snr: 88.19987541799591, target_snr: 50\n",
      "now_snr: 83.04890564913535, target_snr: 50\n"
     ]
    },
    {
     "name": "stderr",
     "output_type": "stream",
     "text": [
      "  0%|          | 6/10000 [00:00<12:58, 12.84it/s]"
     ]
    },
    {
     "name": "stdout",
     "output_type": "stream",
     "text": [
      "now_snr: 190.57780091585144, target_snr: 50\n",
      "now_snr: 340.11104673571896, target_snr: 50\n",
      "now_snr: 290.6899774055147, target_snr: 50\n"
     ]
    },
    {
     "name": "stderr",
     "output_type": "stream",
     "text": [
      "  0%|          | 8/10000 [00:00<12:46, 13.04it/s]"
     ]
    },
    {
     "name": "stdout",
     "output_type": "stream",
     "text": [
      "now_snr: 174.8041409872908, target_snr: 50\n",
      "now_snr: 202.04004089759277, target_snr: 50\n",
      "now_snr: 2128.457046216106, target_snr: 50\n"
     ]
    },
    {
     "name": "stderr",
     "output_type": "stream",
     "text": [
      "  0%|          | 12/10000 [00:00<13:04, 12.73it/s]"
     ]
    },
    {
     "name": "stdout",
     "output_type": "stream",
     "text": [
      "now_snr: 57.68880009829476, target_snr: 50\n",
      "now_snr: 347.9224985818819, target_snr: 50\n",
      "now_snr: 33.67707045084557, target_snr: 50\n"
     ]
    },
    {
     "name": "stderr",
     "output_type": "stream",
     "text": [
      "  0%|          | 14/10000 [00:01<13:14, 12.57it/s]"
     ]
    },
    {
     "name": "stdout",
     "output_type": "stream",
     "text": [
      "now_snr: 93.84686293194937, target_snr: 50\n",
      "now_snr: 17.391171369740047, target_snr: 50\n",
      "now_snr: 480.31516409816743, target_snr: 50\n"
     ]
    },
    {
     "name": "stderr",
     "output_type": "stream",
     "text": [
      "  0%|          | 16/10000 [00:01<13:15, 12.54it/s]"
     ]
    },
    {
     "name": "stdout",
     "output_type": "stream",
     "text": [
      "now_snr: 212.50057159472044, target_snr: 50\n",
      "now_snr: 149.83615268468, target_snr: 50\n",
      "now_snr: 33.237887561676786, target_snr: 50\n"
     ]
    },
    {
     "name": "stderr",
     "output_type": "stream",
     "text": [
      "  0%|          | 20/10000 [00:01<13:23, 12.43it/s]"
     ]
    },
    {
     "name": "stdout",
     "output_type": "stream",
     "text": [
      "now_snr: 1592.5065952691878, target_snr: 50\n",
      "now_snr: 108.28832971100273, target_snr: 50\n",
      "now_snr: 1225.2200167431079, target_snr: 50\n"
     ]
    },
    {
     "name": "stderr",
     "output_type": "stream",
     "text": [
      "  0%|          | 24/10000 [00:01<13:47, 12.06it/s]"
     ]
    },
    {
     "name": "stdout",
     "output_type": "stream",
     "text": [
      "now_snr: 12.172538325384451, target_snr: 50\n",
      "now_snr: 234.0460491268557, target_snr: 50\n",
      "now_snr: 133.69983757944289, target_snr: 50\n"
     ]
    },
    {
     "name": "stderr",
     "output_type": "stream",
     "text": [
      "  0%|          | 26/10000 [00:02<13:58, 11.90it/s]"
     ]
    },
    {
     "name": "stdout",
     "output_type": "stream",
     "text": [
      "now_snr: 2017.7900608683922, target_snr: 50\n",
      "now_snr: 199.99815920760173, target_snr: 50\n",
      "now_snr: 131.3523175916862, target_snr: 50\n"
     ]
    },
    {
     "name": "stderr",
     "output_type": "stream",
     "text": [
      "  0%|          | 30/10000 [00:02<13:37, 12.19it/s]"
     ]
    },
    {
     "name": "stdout",
     "output_type": "stream",
     "text": [
      "now_snr: 179.03444361147027, target_snr: 50\n",
      "now_snr: 123.18283330868768, target_snr: 50\n",
      "now_snr: 410.32231553600934, target_snr: 50\n"
     ]
    },
    {
     "name": "stderr",
     "output_type": "stream",
     "text": [
      "  0%|          | 32/10000 [00:02<14:05, 11.78it/s]"
     ]
    },
    {
     "name": "stdout",
     "output_type": "stream",
     "text": [
      "now_snr: 6.698813940658664, target_snr: 50\n",
      "now_snr: 2.6768121397533577, target_snr: 50\n",
      "now_snr: 874.6610340496283, target_snr: 50\n"
     ]
    },
    {
     "name": "stderr",
     "output_type": "stream",
     "text": [
      "  0%|          | 36/10000 [00:02<13:23, 12.41it/s]"
     ]
    },
    {
     "name": "stdout",
     "output_type": "stream",
     "text": [
      "now_snr: 364.1167502966658, target_snr: 50\n",
      "now_snr: 1999.6295615928034, target_snr: 50\n",
      "now_snr: 560.2558449502666, target_snr: 50\n"
     ]
    },
    {
     "name": "stderr",
     "output_type": "stream",
     "text": [
      "  0%|          | 38/10000 [00:03<12:43, 13.05it/s]"
     ]
    },
    {
     "name": "stdout",
     "output_type": "stream",
     "text": [
      "now_snr: 82.852988225889, target_snr: 50\n",
      "now_snr: 632.4031798361647, target_snr: 50\n",
      "now_snr: 26.414986360926257, target_snr: 50\n"
     ]
    },
    {
     "name": "stderr",
     "output_type": "stream",
     "text": [
      "  0%|          | 40/10000 [00:03<13:53, 11.95it/s]"
     ]
    },
    {
     "name": "stdout",
     "output_type": "stream",
     "text": [
      "now_snr: 50.23831003169084, target_snr: 50\n",
      "now_snr: 20.79598134659236, target_snr: 50\n"
     ]
    },
    {
     "name": "stderr",
     "output_type": "stream",
     "text": [
      "  0%|          | 44/10000 [00:03<14:43, 11.27it/s]"
     ]
    },
    {
     "name": "stdout",
     "output_type": "stream",
     "text": [
      "now_snr: 10.835349418845865, target_snr: 50\n",
      "now_snr: 114.25770056926947, target_snr: 50\n",
      "now_snr: 69.27242904746127, target_snr: 50\n"
     ]
    },
    {
     "name": "stderr",
     "output_type": "stream",
     "text": [
      "  0%|          | 46/10000 [00:03<14:19, 11.58it/s]"
     ]
    },
    {
     "name": "stdout",
     "output_type": "stream",
     "text": [
      "now_snr: 61.83725829570687, target_snr: 50\n",
      "now_snr: 59.725782729652636, target_snr: 50\n",
      "now_snr: 1730.5759435350944, target_snr: 50\n"
     ]
    },
    {
     "name": "stderr",
     "output_type": "stream",
     "text": [
      "  0%|          | 48/10000 [00:03<13:27, 12.32it/s]"
     ]
    },
    {
     "name": "stdout",
     "output_type": "stream",
     "text": [
      "now_snr: 122.17241203393762, target_snr: 50\n",
      "now_snr: 346.64013550584536, target_snr: 50\n"
     ]
    },
    {
     "name": "stderr",
     "output_type": "stream",
     "text": [
      "  1%|          | 52/10000 [00:04<15:50, 10.47it/s]"
     ]
    },
    {
     "name": "stdout",
     "output_type": "stream",
     "text": [
      "now_snr: 73.08384620151774, target_snr: 50\n",
      "now_snr: 10.393021502636717, target_snr: 50\n",
      "now_snr: 1262.188690287565, target_snr: 50\n"
     ]
    },
    {
     "name": "stderr",
     "output_type": "stream",
     "text": [
      "  1%|          | 54/10000 [00:04<16:07, 10.28it/s]"
     ]
    },
    {
     "name": "stdout",
     "output_type": "stream",
     "text": [
      "now_snr: 306.61140237276743, target_snr: 50\n",
      "now_snr: 50777.46265796129, target_snr: 50\n"
     ]
    },
    {
     "name": "stderr",
     "output_type": "stream",
     "text": [
      "  1%|          | 56/10000 [00:04<15:30, 10.69it/s]"
     ]
    },
    {
     "name": "stdout",
     "output_type": "stream",
     "text": [
      "now_snr: 294.30010654344846, target_snr: 50\n",
      "now_snr: 68.56243272890497, target_snr: 50\n",
      "now_snr: 135.39607917617138, target_snr: 50\n"
     ]
    },
    {
     "name": "stderr",
     "output_type": "stream",
     "text": [
      "  1%|          | 60/10000 [00:05<16:37,  9.97it/s]"
     ]
    },
    {
     "name": "stdout",
     "output_type": "stream",
     "text": [
      "now_snr: 74.51773621055388, target_snr: 50\n",
      "now_snr: 35.95992408270692, target_snr: 50\n",
      "now_snr: 366.28705644547114, target_snr: 50\n"
     ]
    },
    {
     "name": "stderr",
     "output_type": "stream",
     "text": [
      "  1%|          | 62/10000 [00:05<15:39, 10.57it/s]"
     ]
    },
    {
     "name": "stdout",
     "output_type": "stream",
     "text": [
      "now_snr: 2175.5943780758744, target_snr: 50\n",
      "now_snr: 48.483376043873434, target_snr: 50\n",
      "now_snr: 1016.6429932517597, target_snr: 50\n"
     ]
    },
    {
     "name": "stderr",
     "output_type": "stream",
     "text": [
      "  1%|          | 64/10000 [00:05<15:21, 10.78it/s]"
     ]
    },
    {
     "name": "stdout",
     "output_type": "stream",
     "text": [
      "now_snr: 1289.9165989628573, target_snr: 50\n",
      "now_snr: 22652.4764416438, target_snr: 50\n"
     ]
    },
    {
     "name": "stderr",
     "output_type": "stream",
     "text": [
      "  1%|          | 68/10000 [00:05<15:54, 10.41it/s]"
     ]
    },
    {
     "name": "stdout",
     "output_type": "stream",
     "text": [
      "now_snr: 197.9291622215251, target_snr: 50\n",
      "now_snr: 1730.0484975990628, target_snr: 50\n",
      "now_snr: 130.80050368817803, target_snr: 50\n"
     ]
    },
    {
     "name": "stderr",
     "output_type": "stream",
     "text": [
      "  1%|          | 70/10000 [00:06<15:03, 10.99it/s]"
     ]
    },
    {
     "name": "stdout",
     "output_type": "stream",
     "text": [
      "now_snr: 939.431624533521, target_snr: 50\n",
      "now_snr: 43.398716079907615, target_snr: 50\n",
      "now_snr: 84.12258726855069, target_snr: 50\n"
     ]
    },
    {
     "name": "stderr",
     "output_type": "stream",
     "text": [
      "  1%|          | 72/10000 [00:06<13:50, 11.95it/s]"
     ]
    },
    {
     "name": "stdout",
     "output_type": "stream",
     "text": [
      "now_snr: 1102.8688421135653, target_snr: 50\n",
      "now_snr: 387.078347558343, target_snr: 50\n"
     ]
    },
    {
     "name": "stderr",
     "output_type": "stream",
     "text": [
      "  1%|          | 76/10000 [00:06<15:00, 11.02it/s]"
     ]
    },
    {
     "name": "stdout",
     "output_type": "stream",
     "text": [
      "now_snr: 9.085053913503488, target_snr: 50\n",
      "now_snr: 130.09230783613182, target_snr: 50\n",
      "now_snr: 43.35539506503603, target_snr: 50\n"
     ]
    },
    {
     "name": "stderr",
     "output_type": "stream",
     "text": [
      "  1%|          | 78/10000 [00:06<14:05, 11.74it/s]"
     ]
    },
    {
     "name": "stdout",
     "output_type": "stream",
     "text": [
      "now_snr: 245.43705797528267, target_snr: 50\n",
      "now_snr: 135.14242702040715, target_snr: 50\n",
      "now_snr: 279.27819744672706, target_snr: 50\n"
     ]
    },
    {
     "name": "stderr",
     "output_type": "stream",
     "text": [
      "  1%|          | 82/10000 [00:07<13:27, 12.28it/s]"
     ]
    },
    {
     "name": "stdout",
     "output_type": "stream",
     "text": [
      "now_snr: 475.7443810769668, target_snr: 50\n",
      "now_snr: 16.70454025845583, target_snr: 50\n",
      "now_snr: 1050.4102845049758, target_snr: 50\n"
     ]
    },
    {
     "name": "stderr",
     "output_type": "stream",
     "text": [
      "  1%|          | 84/10000 [00:07<17:18,  9.55it/s]"
     ]
    },
    {
     "name": "stdout",
     "output_type": "stream",
     "text": [
      "now_snr: 11.365665023988397, target_snr: 50\n",
      "now_snr: 77.25387021501163, target_snr: 50\n",
      "now_snr: 256.5742791701062, target_snr: 50\n"
     ]
    },
    {
     "name": "stderr",
     "output_type": "stream",
     "text": [
      "  1%|          | 88/10000 [00:07<15:27, 10.69it/s]"
     ]
    },
    {
     "name": "stdout",
     "output_type": "stream",
     "text": [
      "now_snr: 355.12408717862183, target_snr: 50\n",
      "now_snr: 91.00703748075541, target_snr: 50\n",
      "now_snr: 187.912443963421, target_snr: 50\n"
     ]
    },
    {
     "name": "stderr",
     "output_type": "stream",
     "text": [
      "  1%|          | 90/10000 [00:07<15:17, 10.80it/s]"
     ]
    },
    {
     "name": "stdout",
     "output_type": "stream",
     "text": [
      "now_snr: 232.34700628402314, target_snr: 50\n",
      "now_snr: 4644.748784642999, target_snr: 50\n",
      "now_snr: 1167.6248525889316, target_snr: 50\n"
     ]
    },
    {
     "name": "stderr",
     "output_type": "stream",
     "text": [
      "  1%|          | 94/10000 [00:08<14:16, 11.56it/s]"
     ]
    },
    {
     "name": "stdout",
     "output_type": "stream",
     "text": [
      "now_snr: 65.82954829273734, target_snr: 50\n",
      "now_snr: 153.9074177734769, target_snr: 50\n",
      "now_snr: 82.81746792021865, target_snr: 50\n"
     ]
    },
    {
     "name": "stderr",
     "output_type": "stream",
     "text": [
      "  1%|          | 96/10000 [00:08<14:01, 11.77it/s]"
     ]
    },
    {
     "name": "stdout",
     "output_type": "stream",
     "text": [
      "now_snr: 1035.7033730991998, target_snr: 50\n",
      "now_snr: 274.043502414847, target_snr: 50\n",
      "now_snr: 2663.279276998259, target_snr: 50\n"
     ]
    },
    {
     "name": "stderr",
     "output_type": "stream",
     "text": [
      "  1%|          | 100/10000 [00:08<14:03, 11.73it/s]"
     ]
    },
    {
     "name": "stdout",
     "output_type": "stream",
     "text": [
      "now_snr: 72.4881162272927, target_snr: 50\n",
      "now_snr: 5269.426221441212, target_snr: 50\n",
      "now_snr: 999.3337912547506, target_snr: 50\n"
     ]
    },
    {
     "name": "stderr",
     "output_type": "stream",
     "text": [
      "  1%|          | 102/10000 [00:08<13:53, 11.88it/s]"
     ]
    },
    {
     "name": "stdout",
     "output_type": "stream",
     "text": [
      "now_snr: 432.5704809372661, target_snr: 50\n",
      "now_snr: 2001.6987091541075, target_snr: 50\n",
      "now_snr: 428.3302224520492, target_snr: 50\n"
     ]
    },
    {
     "name": "stderr",
     "output_type": "stream",
     "text": [
      "  1%|          | 106/10000 [00:09<13:52, 11.89it/s]"
     ]
    },
    {
     "name": "stdout",
     "output_type": "stream",
     "text": [
      "now_snr: 528.702159896877, target_snr: 50\n",
      "now_snr: 200.82380652557376, target_snr: 50\n",
      "now_snr: 373.37729703429795, target_snr: 50\n"
     ]
    },
    {
     "name": "stderr",
     "output_type": "stream",
     "text": [
      "  1%|          | 108/10000 [00:09<13:45, 11.99it/s]"
     ]
    },
    {
     "name": "stdout",
     "output_type": "stream",
     "text": [
      "now_snr: 476.1723967420669, target_snr: 50\n",
      "now_snr: 639.7688008546701, target_snr: 50\n",
      "now_snr: 33.445449105335456, target_snr: 50\n"
     ]
    },
    {
     "name": "stderr",
     "output_type": "stream",
     "text": [
      "  1%|          | 112/10000 [00:09<13:13, 12.46it/s]"
     ]
    },
    {
     "name": "stdout",
     "output_type": "stream",
     "text": [
      "now_snr: 796.9192039008068, target_snr: 50\n",
      "now_snr: 377.0822078616043, target_snr: 50\n",
      "now_snr: 1347.798313536169, target_snr: 50\n"
     ]
    },
    {
     "name": "stderr",
     "output_type": "stream",
     "text": [
      "  1%|          | 114/10000 [00:09<14:01, 11.75it/s]"
     ]
    },
    {
     "name": "stdout",
     "output_type": "stream",
     "text": [
      "now_snr: 10.19835701773836, target_snr: 50\n",
      "now_snr: 281.65572040262686, target_snr: 50\n",
      "now_snr: 207.81783423715984, target_snr: 50\n"
     ]
    },
    {
     "name": "stderr",
     "output_type": "stream",
     "text": [
      "  1%|          | 118/10000 [00:10<13:47, 11.95it/s]"
     ]
    },
    {
     "name": "stdout",
     "output_type": "stream",
     "text": [
      "now_snr: 7191.0824116222575, target_snr: 50\n",
      "now_snr: 219.45853562898625, target_snr: 50\n",
      "now_snr: 79.5385933255489, target_snr: 50\n"
     ]
    },
    {
     "name": "stderr",
     "output_type": "stream",
     "text": [
      "  1%|          | 120/10000 [00:10<13:14, 12.43it/s]"
     ]
    },
    {
     "name": "stdout",
     "output_type": "stream",
     "text": [
      "now_snr: 44.00091101574179, target_snr: 50\n",
      "now_snr: 237.75627925839592, target_snr: 50\n",
      "now_snr: 363.0458747492143, target_snr: 50\n"
     ]
    },
    {
     "name": "stderr",
     "output_type": "stream",
     "text": [
      "  1%|          | 124/10000 [00:10<13:06, 12.56it/s]"
     ]
    },
    {
     "name": "stdout",
     "output_type": "stream",
     "text": [
      "now_snr: 1547.420008751772, target_snr: 50\n",
      "now_snr: 16.902615171707772, target_snr: 50\n",
      "now_snr: 150.70010222564963, target_snr: 50\n"
     ]
    },
    {
     "name": "stderr",
     "output_type": "stream",
     "text": [
      "  1%|▏         | 126/10000 [00:10<12:51, 12.80it/s]"
     ]
    },
    {
     "name": "stdout",
     "output_type": "stream",
     "text": [
      "now_snr: 907.5576789889194, target_snr: 50\n",
      "now_snr: 389.89659967844, target_snr: 50\n",
      "now_snr: 1490.6636363011694, target_snr: 50\n"
     ]
    },
    {
     "name": "stderr",
     "output_type": "stream",
     "text": [
      "  1%|▏         | 130/10000 [00:11<12:51, 12.79it/s]"
     ]
    },
    {
     "name": "stdout",
     "output_type": "stream",
     "text": [
      "now_snr: 53.920153141673076, target_snr: 50\n",
      "now_snr: 1277.7544882892737, target_snr: 50\n",
      "now_snr: 158.325509835938, target_snr: 50\n",
      "now_snr: 241.86821391238627, target_snr: 50\n"
     ]
    },
    {
     "name": "stderr",
     "output_type": "stream",
     "text": [
      "  1%|▏         | 134/10000 [00:11<15:04, 10.91it/s]"
     ]
    },
    {
     "name": "stdout",
     "output_type": "stream",
     "text": [
      "now_snr: 27.473789873679088, target_snr: 50\n",
      "now_snr: 244.77019322414176, target_snr: 50\n",
      "now_snr: 1558.2377636117014, target_snr: 50\n"
     ]
    },
    {
     "name": "stderr",
     "output_type": "stream",
     "text": [
      "  1%|▏         | 136/10000 [00:11<14:53, 11.04it/s]"
     ]
    },
    {
     "name": "stdout",
     "output_type": "stream",
     "text": [
      "now_snr: 268.7282190641134, target_snr: 50\n",
      "now_snr: 419.58448007178237, target_snr: 50\n",
      "now_snr: 45.35242851150013, target_snr: 50\n"
     ]
    },
    {
     "name": "stderr",
     "output_type": "stream",
     "text": [
      "  1%|▏         | 140/10000 [00:12<14:20, 11.46it/s]"
     ]
    },
    {
     "name": "stdout",
     "output_type": "stream",
     "text": [
      "now_snr: 633.3690240964602, target_snr: 50\n",
      "now_snr: 73.56329226703669, target_snr: 50\n",
      "now_snr: 128.42123740780664, target_snr: 50\n"
     ]
    },
    {
     "name": "stderr",
     "output_type": "stream",
     "text": [
      "  1%|▏         | 142/10000 [00:12<20:32,  8.00it/s]"
     ]
    },
    {
     "name": "stdout",
     "output_type": "stream",
     "text": [
      "now_snr: 17080.036602116492, target_snr: 50\n",
      "now_snr: 544.2640195815366, target_snr: 50\n",
      "now_snr: 32.06129776237795, target_snr: 50\n"
     ]
    },
    {
     "name": "stderr",
     "output_type": "stream",
     "text": [
      "  1%|▏         | 144/10000 [00:12<18:09,  9.05it/s]"
     ]
    },
    {
     "name": "stdout",
     "output_type": "stream",
     "text": [
      "now_snr: 444.69517597519337, target_snr: 50\n",
      "now_snr: 394.64593756478047, target_snr: 50\n"
     ]
    },
    {
     "name": "stderr",
     "output_type": "stream",
     "text": [
      "  1%|▏         | 147/10000 [00:13<18:38,  8.81it/s]"
     ]
    },
    {
     "name": "stdout",
     "output_type": "stream",
     "text": [
      "now_snr: 16.693067426697212, target_snr: 50\n",
      "now_snr: 5292.149619985024, target_snr: 50\n",
      "now_snr: 829.5379029618052, target_snr: 50\n"
     ]
    },
    {
     "name": "stderr",
     "output_type": "stream",
     "text": [
      "  1%|▏         | 149/10000 [00:13<16:35,  9.90it/s]"
     ]
    },
    {
     "name": "stdout",
     "output_type": "stream",
     "text": [
      "now_snr: 96.99583091912974, target_snr: 50\n",
      "now_snr: 2831.223923833161, target_snr: 50\n"
     ]
    },
    {
     "name": "stderr",
     "output_type": "stream",
     "text": [
      "  2%|▏         | 153/10000 [00:13<16:00, 10.25it/s]"
     ]
    },
    {
     "name": "stdout",
     "output_type": "stream",
     "text": [
      "now_snr: 239.1718028732663, target_snr: 50\n",
      "now_snr: 111.8386115698593, target_snr: 50\n",
      "now_snr: 34.809290155495674, target_snr: 50\n"
     ]
    },
    {
     "name": "stderr",
     "output_type": "stream",
     "text": [
      "  2%|▏         | 155/10000 [00:13<14:48, 11.08it/s]"
     ]
    },
    {
     "name": "stdout",
     "output_type": "stream",
     "text": [
      "now_snr: 285.4380316321392, target_snr: 50\n",
      "now_snr: 343.5278646887557, target_snr: 50\n",
      "now_snr: 574.910194818918, target_snr: 50\n"
     ]
    },
    {
     "name": "stderr",
     "output_type": "stream",
     "text": [
      "  2%|▏         | 159/10000 [00:14<15:29, 10.59it/s]"
     ]
    },
    {
     "name": "stdout",
     "output_type": "stream",
     "text": [
      "now_snr: 13.703539546062169, target_snr: 50\n",
      "now_snr: 236.75161364326638, target_snr: 50\n",
      "now_snr: 57.297068697067616, target_snr: 50\n"
     ]
    },
    {
     "name": "stderr",
     "output_type": "stream",
     "text": [
      "  2%|▏         | 161/10000 [00:14<14:41, 11.16it/s]"
     ]
    },
    {
     "name": "stdout",
     "output_type": "stream",
     "text": [
      "now_snr: 304.4553934036429, target_snr: 50\n",
      "now_snr: 458.1853802032923, target_snr: 50\n",
      "now_snr: 2023.8511728419924, target_snr: 50\n"
     ]
    },
    {
     "name": "stderr",
     "output_type": "stream",
     "text": [
      "  2%|▏         | 165/10000 [00:14<13:50, 11.84it/s]"
     ]
    },
    {
     "name": "stdout",
     "output_type": "stream",
     "text": [
      "now_snr: 157.15877317273518, target_snr: 50\n",
      "now_snr: 16.84929405786822, target_snr: 50\n",
      "now_snr: 139.10579075880298, target_snr: 50\n"
     ]
    },
    {
     "name": "stderr",
     "output_type": "stream",
     "text": [
      "  2%|▏         | 167/10000 [00:14<14:10, 11.57it/s]"
     ]
    },
    {
     "name": "stdout",
     "output_type": "stream",
     "text": [
      "now_snr: 542.7783959534083, target_snr: 50\n",
      "now_snr: 180.68285878903475, target_snr: 50\n",
      "now_snr: 661.8474294360744, target_snr: 50\n"
     ]
    },
    {
     "name": "stderr",
     "output_type": "stream",
     "text": [
      "  2%|▏         | 171/10000 [00:15<13:13, 12.38it/s]"
     ]
    },
    {
     "name": "stdout",
     "output_type": "stream",
     "text": [
      "now_snr: 176.69937873696432, target_snr: 50\n",
      "now_snr: 1103.0294206219312, target_snr: 50\n",
      "now_snr: 469.8806064714882, target_snr: 50\n"
     ]
    },
    {
     "name": "stderr",
     "output_type": "stream",
     "text": [
      "  2%|▏         | 173/10000 [00:15<15:43, 10.41it/s]"
     ]
    },
    {
     "name": "stdout",
     "output_type": "stream",
     "text": [
      "now_snr: 3451.3969663992734, target_snr: 50\n",
      "now_snr: 61.585240042991536, target_snr: 50\n"
     ]
    },
    {
     "name": "stderr",
     "output_type": "stream",
     "text": [
      "  2%|▏         | 175/10000 [00:15<15:05, 10.86it/s]"
     ]
    },
    {
     "name": "stdout",
     "output_type": "stream",
     "text": [
      "now_snr: 729.415177764908, target_snr: 50\n",
      "now_snr: 122.72501319741573, target_snr: 50\n",
      "now_snr: 305.62205260534705, target_snr: 50\n"
     ]
    },
    {
     "name": "stderr",
     "output_type": "stream",
     "text": [
      "  2%|▏         | 179/10000 [00:15<14:07, 11.59it/s]"
     ]
    },
    {
     "name": "stdout",
     "output_type": "stream",
     "text": [
      "now_snr: 711.070690029707, target_snr: 50\n",
      "now_snr: 274.97982078121055, target_snr: 50\n",
      "now_snr: 1387.4870844576944, target_snr: 50\n"
     ]
    },
    {
     "name": "stderr",
     "output_type": "stream",
     "text": [
      "  2%|▏         | 181/10000 [00:16<20:23,  8.03it/s]"
     ]
    },
    {
     "name": "stdout",
     "output_type": "stream",
     "text": [
      "now_snr: 52799.58429736899, target_snr: 50\n",
      "now_snr: 23361.334392764522, target_snr: 50\n"
     ]
    },
    {
     "name": "stderr",
     "output_type": "stream",
     "text": [
      "  2%|▏         | 183/10000 [00:16<19:18,  8.47it/s]"
     ]
    },
    {
     "name": "stdout",
     "output_type": "stream",
     "text": [
      "now_snr: 432.3677557295567, target_snr: 50\n",
      "now_snr: 204.9860640524289, target_snr: 50\n"
     ]
    },
    {
     "name": "stderr",
     "output_type": "stream",
     "text": [
      "  2%|▏         | 185/10000 [00:16<18:26,  8.87it/s]"
     ]
    },
    {
     "name": "stdout",
     "output_type": "stream",
     "text": [
      "now_snr: 471.76874431160024, target_snr: 50\n",
      "now_snr: 1228.5618198484435, target_snr: 50\n"
     ]
    },
    {
     "name": "stderr",
     "output_type": "stream",
     "text": [
      "  2%|▏         | 187/10000 [00:16<18:19,  8.93it/s]"
     ]
    },
    {
     "name": "stdout",
     "output_type": "stream",
     "text": [
      "now_snr: 2168.465519098067, target_snr: 50\n",
      "now_snr: 77.67769910829352, target_snr: 50\n"
     ]
    },
    {
     "name": "stderr",
     "output_type": "stream",
     "text": [
      "  2%|▏         | 189/10000 [00:17<16:46,  9.75it/s]"
     ]
    },
    {
     "name": "stdout",
     "output_type": "stream",
     "text": [
      "now_snr: 3484.8306552794133, target_snr: 50\n",
      "now_snr: 439.45845161130165, target_snr: 50\n",
      "now_snr: 107.55942216326589, target_snr: 50\n"
     ]
    },
    {
     "name": "stderr",
     "output_type": "stream",
     "text": [
      "  2%|▏         | 191/10000 [00:17<15:25, 10.60it/s]"
     ]
    },
    {
     "name": "stdout",
     "output_type": "stream",
     "text": [
      "now_snr: 31.95920742132788, target_snr: 50\n",
      "now_snr: 37.81332634230054, target_snr: 50\n"
     ]
    },
    {
     "name": "stderr",
     "output_type": "stream",
     "text": [
      "  2%|▏         | 195/10000 [00:17<15:29, 10.55it/s]"
     ]
    },
    {
     "name": "stdout",
     "output_type": "stream",
     "text": [
      "now_snr: 1550.9521580952282, target_snr: 50\n",
      "now_snr: 13.33429821071628, target_snr: 50\n",
      "now_snr: 311.4144777777012, target_snr: 50\n"
     ]
    },
    {
     "name": "stderr",
     "output_type": "stream",
     "text": [
      "  2%|▏         | 197/10000 [00:17<15:20, 10.65it/s]"
     ]
    },
    {
     "name": "stdout",
     "output_type": "stream",
     "text": [
      "now_snr: 136.94250804129493, target_snr: 50\n",
      "now_snr: 93.0993450685576, target_snr: 50\n",
      "now_snr: 50.63144480372753, target_snr: 50\n"
     ]
    },
    {
     "name": "stderr",
     "output_type": "stream",
     "text": [
      "  2%|▏         | 201/10000 [00:18<14:21, 11.38it/s]"
     ]
    },
    {
     "name": "stdout",
     "output_type": "stream",
     "text": [
      "now_snr: 422.4304590121809, target_snr: 50\n",
      "now_snr: 311.4621742486076, target_snr: 50\n",
      "now_snr: 228.59562657085752, target_snr: 50\n"
     ]
    },
    {
     "name": "stderr",
     "output_type": "stream",
     "text": [
      "  2%|▏         | 203/10000 [00:18<15:07, 10.79it/s]"
     ]
    },
    {
     "name": "stdout",
     "output_type": "stream",
     "text": [
      "now_snr: 143.15633385434396, target_snr: 50\n",
      "now_snr: 386.2339220516783, target_snr: 50\n",
      "now_snr: 89.22696807622336, target_snr: 50\n"
     ]
    },
    {
     "name": "stderr",
     "output_type": "stream",
     "text": [
      "  2%|▏         | 207/10000 [00:18<15:43, 10.38it/s]"
     ]
    },
    {
     "name": "stdout",
     "output_type": "stream",
     "text": [
      "now_snr: 9.118558636376973, target_snr: 50\n",
      "now_snr: 485.80790768604885, target_snr: 50\n",
      "now_snr: 6.763817050146471, target_snr: 50\n"
     ]
    },
    {
     "name": "stderr",
     "output_type": "stream",
     "text": [
      "  2%|▏         | 209/10000 [00:19<16:27,  9.91it/s]"
     ]
    },
    {
     "name": "stdout",
     "output_type": "stream",
     "text": [
      "now_snr: 28.544950364294422, target_snr: 50\n",
      "now_snr: 772.6732084936115, target_snr: 50\n",
      "now_snr: 779.4856667746291, target_snr: 50\n"
     ]
    },
    {
     "name": "stderr",
     "output_type": "stream",
     "text": [
      "  2%|▏         | 213/10000 [00:19<14:42, 11.09it/s]"
     ]
    },
    {
     "name": "stdout",
     "output_type": "stream",
     "text": [
      "now_snr: 725.7297365204008, target_snr: 50\n",
      "now_snr: 10.458495637061777, target_snr: 50\n",
      "now_snr: 1449.5180089895084, target_snr: 50\n"
     ]
    },
    {
     "name": "stderr",
     "output_type": "stream",
     "text": [
      "  2%|▏         | 215/10000 [00:19<13:59, 11.66it/s]"
     ]
    },
    {
     "name": "stdout",
     "output_type": "stream",
     "text": [
      "now_snr: 74.87222345236516, target_snr: 50\n",
      "now_snr: 801.8192257242634, target_snr: 50\n",
      "now_snr: 2168.999376588805, target_snr: 50\n"
     ]
    },
    {
     "name": "stderr",
     "output_type": "stream",
     "text": [
      "  2%|▏         | 217/10000 [00:19<13:29, 12.08it/s]"
     ]
    },
    {
     "name": "stdout",
     "output_type": "stream",
     "text": [
      "now_snr: 256.77589721089305, target_snr: 50\n",
      "now_snr: 26.052733106503517, target_snr: 50\n"
     ]
    },
    {
     "name": "stderr",
     "output_type": "stream",
     "text": [
      "  2%|▏         | 221/10000 [00:20<14:57, 10.90it/s]"
     ]
    },
    {
     "name": "stdout",
     "output_type": "stream",
     "text": [
      "now_snr: 182.3270657633088, target_snr: 50\n",
      "now_snr: 103.32507706859195, target_snr: 50\n",
      "now_snr: 168.677143556955, target_snr: 50\n"
     ]
    },
    {
     "name": "stderr",
     "output_type": "stream",
     "text": [
      "  2%|▏         | 223/10000 [00:20<15:11, 10.72it/s]"
     ]
    },
    {
     "name": "stdout",
     "output_type": "stream",
     "text": [
      "now_snr: 2680.146770540714, target_snr: 50\n",
      "now_snr: 5112.079149764611, target_snr: 50\n",
      "now_snr: 7.928438120724048, target_snr: 50\n"
     ]
    },
    {
     "name": "stderr",
     "output_type": "stream",
     "text": [
      "  2%|▏         | 227/10000 [00:20<13:33, 12.01it/s]"
     ]
    },
    {
     "name": "stdout",
     "output_type": "stream",
     "text": [
      "now_snr: 306.6924909411562, target_snr: 50\n",
      "now_snr: 172.27285790950572, target_snr: 50\n",
      "now_snr: 8394.630985649028, target_snr: 50\n"
     ]
    },
    {
     "name": "stderr",
     "output_type": "stream",
     "text": [
      "  2%|▏         | 229/10000 [00:20<13:12, 12.33it/s]"
     ]
    },
    {
     "name": "stdout",
     "output_type": "stream",
     "text": [
      "now_snr: 152.40383476678028, target_snr: 50\n",
      "now_snr: 465.99466748431786, target_snr: 50\n",
      "now_snr: 370.06345951019716, target_snr: 50\n"
     ]
    },
    {
     "name": "stderr",
     "output_type": "stream",
     "text": [
      "  2%|▏         | 231/10000 [00:20<13:01, 12.50it/s]"
     ]
    },
    {
     "name": "stdout",
     "output_type": "stream",
     "text": [
      "now_snr: 185.82925231926677, target_snr: 50\n",
      "now_snr: 8.616323089768919, target_snr: 50\n"
     ]
    },
    {
     "name": "stderr",
     "output_type": "stream",
     "text": [
      "  2%|▏         | 235/10000 [00:21<19:32,  8.33it/s]"
     ]
    },
    {
     "name": "stdout",
     "output_type": "stream",
     "text": [
      "now_snr: 30630.998295293008, target_snr: 50\n",
      "now_snr: 563.0150493706528, target_snr: 50\n",
      "now_snr: 142.29714058265427, target_snr: 50\n"
     ]
    },
    {
     "name": "stderr",
     "output_type": "stream",
     "text": [
      "  2%|▏         | 237/10000 [00:21<17:09,  9.49it/s]"
     ]
    },
    {
     "name": "stdout",
     "output_type": "stream",
     "text": [
      "now_snr: 454.3453002607431, target_snr: 50\n",
      "now_snr: 206.32875181411285, target_snr: 50\n",
      "now_snr: 137.76063677357988, target_snr: 50\n"
     ]
    },
    {
     "name": "stderr",
     "output_type": "stream",
     "text": [
      "  2%|▏         | 241/10000 [00:22<15:49, 10.28it/s]"
     ]
    },
    {
     "name": "stdout",
     "output_type": "stream",
     "text": [
      "now_snr: 10.999876175839109, target_snr: 50\n",
      "now_snr: 29.261217561876318, target_snr: 50\n",
      "now_snr: 70.63268130006252, target_snr: 50\n"
     ]
    },
    {
     "name": "stderr",
     "output_type": "stream",
     "text": [
      "  2%|▏         | 243/10000 [00:22<14:33, 11.17it/s]"
     ]
    },
    {
     "name": "stdout",
     "output_type": "stream",
     "text": [
      "now_snr: 46.23392485404175, target_snr: 50\n",
      "now_snr: 103.85671292036459, target_snr: 50\n",
      "now_snr: 167.2169615635478, target_snr: 50\n"
     ]
    },
    {
     "name": "stderr",
     "output_type": "stream",
     "text": [
      "  2%|▏         | 245/10000 [00:22<14:35, 11.15it/s]"
     ]
    },
    {
     "name": "stdout",
     "output_type": "stream",
     "text": [
      "now_snr: 665.3154158402248, target_snr: 50\n",
      "now_snr: 156.73611463031875, target_snr: 50\n"
     ]
    },
    {
     "name": "stderr",
     "output_type": "stream",
     "text": [
      "  2%|▏         | 249/10000 [00:22<14:39, 11.09it/s]"
     ]
    },
    {
     "name": "stdout",
     "output_type": "stream",
     "text": [
      "now_snr: 90.3411727361913, target_snr: 50\n",
      "now_snr: 362.88489417138584, target_snr: 50\n",
      "now_snr: 5471.563995620738, target_snr: 50\n"
     ]
    },
    {
     "name": "stderr",
     "output_type": "stream",
     "text": [
      "  3%|▎         | 251/10000 [00:22<14:46, 11.00it/s]"
     ]
    },
    {
     "name": "stdout",
     "output_type": "stream",
     "text": [
      "now_snr: 500.5758698947417, target_snr: 50\n",
      "now_snr: 367.88602299372263, target_snr: 50\n",
      "now_snr: 156.27416029230292, target_snr: 50\n"
     ]
    },
    {
     "name": "stderr",
     "output_type": "stream",
     "text": [
      "  3%|▎         | 255/10000 [00:23<13:15, 12.26it/s]"
     ]
    },
    {
     "name": "stdout",
     "output_type": "stream",
     "text": [
      "now_snr: 139.86447310448807, target_snr: 50\n",
      "now_snr: 180.74164731214555, target_snr: 50\n",
      "now_snr: 1791.150377566837, target_snr: 50\n"
     ]
    },
    {
     "name": "stderr",
     "output_type": "stream",
     "text": [
      "  3%|▎         | 257/10000 [00:23<13:22, 12.14it/s]"
     ]
    },
    {
     "name": "stdout",
     "output_type": "stream",
     "text": [
      "now_snr: 178.01508397685708, target_snr: 50\n",
      "now_snr: 568.8857599263927, target_snr: 50\n"
     ]
    },
    {
     "name": "stderr",
     "output_type": "stream",
     "text": [
      "  3%|▎         | 259/10000 [00:23<15:04, 10.76it/s]"
     ]
    },
    {
     "name": "stdout",
     "output_type": "stream",
     "text": [
      "now_snr: 4.1341954924471365, target_snr: 50\n",
      "now_snr: 629.8806544001277, target_snr: 50\n",
      "now_snr: 385.0590087829337, target_snr: 50\n"
     ]
    },
    {
     "name": "stderr",
     "output_type": "stream",
     "text": [
      "  3%|▎         | 263/10000 [00:23<14:11, 11.43it/s]"
     ]
    },
    {
     "name": "stdout",
     "output_type": "stream",
     "text": [
      "now_snr: 426.3609668453412, target_snr: 50\n",
      "now_snr: 137.68648535164473, target_snr: 50\n",
      "now_snr: 113.37446857704232, target_snr: 50\n"
     ]
    },
    {
     "name": "stderr",
     "output_type": "stream",
     "text": [
      "  3%|▎         | 265/10000 [00:24<14:27, 11.22it/s]"
     ]
    },
    {
     "name": "stdout",
     "output_type": "stream",
     "text": [
      "now_snr: 222.34001570050617, target_snr: 50\n",
      "now_snr: 155.86444492961118, target_snr: 50\n"
     ]
    },
    {
     "name": "stderr",
     "output_type": "stream",
     "text": [
      "  3%|▎         | 267/10000 [00:24<14:32, 11.15it/s]"
     ]
    },
    {
     "name": "stdout",
     "output_type": "stream",
     "text": [
      "now_snr: 420.91607735701035, target_snr: 50\n",
      "now_snr: 139.85780672095052, target_snr: 50\n",
      "now_snr: 298.8264147940314, target_snr: 50\n"
     ]
    },
    {
     "name": "stderr",
     "output_type": "stream",
     "text": [
      "  3%|▎         | 271/10000 [00:24<14:32, 11.15it/s]"
     ]
    },
    {
     "name": "stdout",
     "output_type": "stream",
     "text": [
      "now_snr: 7126.329158372811, target_snr: 50\n",
      "now_snr: 124.901471735928, target_snr: 50\n",
      "now_snr: 83.45054458038652, target_snr: 50\n"
     ]
    },
    {
     "name": "stderr",
     "output_type": "stream",
     "text": [
      "  3%|▎         | 273/10000 [00:24<14:58, 10.83it/s]"
     ]
    },
    {
     "name": "stdout",
     "output_type": "stream",
     "text": [
      "now_snr: 394.951783465901, target_snr: 50\n",
      "now_snr: 204.19374998013674, target_snr: 50\n",
      "now_snr: 665.3795544790893, target_snr: 50\n"
     ]
    },
    {
     "name": "stderr",
     "output_type": "stream",
     "text": [
      "  3%|▎         | 275/10000 [00:25<14:34, 11.12it/s]"
     ]
    },
    {
     "name": "stdout",
     "output_type": "stream",
     "text": [
      "now_snr: 452.62600028402375, target_snr: 50\n",
      "now_snr: 4480.023248222223, target_snr: 50\n"
     ]
    },
    {
     "name": "stderr",
     "output_type": "stream",
     "text": [
      "  3%|▎         | 279/10000 [00:25<24:00,  6.75it/s]"
     ]
    },
    {
     "name": "stdout",
     "output_type": "stream",
     "text": [
      "now_snr: 23269.452256652323, target_snr: 50\n",
      "now_snr: 7537.460370369144, target_snr: 50\n",
      "now_snr: 251.83422020960398, target_snr: 50\n"
     ]
    },
    {
     "name": "stderr",
     "output_type": "stream",
     "text": [
      "  3%|▎         | 281/10000 [00:26<20:41,  7.83it/s]"
     ]
    },
    {
     "name": "stdout",
     "output_type": "stream",
     "text": [
      "now_snr: 1221.3196222495474, target_snr: 50\n",
      "now_snr: 485.9251567587137, target_snr: 50\n",
      "now_snr: 37.82435046255648, target_snr: 50\n"
     ]
    },
    {
     "name": "stderr",
     "output_type": "stream",
     "text": [
      "  3%|▎         | 285/10000 [00:26<17:35,  9.20it/s]"
     ]
    },
    {
     "name": "stdout",
     "output_type": "stream",
     "text": [
      "now_snr: 1.8884493209642046, target_snr: 50\n",
      "now_snr: 40.75727361266891, target_snr: 50\n",
      "now_snr: 294.36691509868893, target_snr: 50\n"
     ]
    },
    {
     "name": "stderr",
     "output_type": "stream",
     "text": [
      "  3%|▎         | 287/10000 [00:26<16:42,  9.69it/s]"
     ]
    },
    {
     "name": "stdout",
     "output_type": "stream",
     "text": [
      "now_snr: 746.8779041809346, target_snr: 50\n",
      "now_snr: 7.15776247822377, target_snr: 50\n"
     ]
    },
    {
     "name": "stderr",
     "output_type": "stream",
     "text": [
      "  3%|▎         | 289/10000 [00:27<20:40,  7.83it/s]"
     ]
    },
    {
     "name": "stdout",
     "output_type": "stream",
     "text": [
      "now_snr: 45.249310086221435, target_snr: 50\n",
      "now_snr: 130.8465985614524, target_snr: 50\n",
      "now_snr: 288.7717878761382, target_snr: 50\n"
     ]
    },
    {
     "name": "stderr",
     "output_type": "stream",
     "text": [
      "  3%|▎         | 293/10000 [00:27<16:22,  9.88it/s]"
     ]
    },
    {
     "name": "stdout",
     "output_type": "stream",
     "text": [
      "now_snr: 192.52163133754476, target_snr: 50\n",
      "now_snr: 50.281081877249775, target_snr: 50\n",
      "now_snr: 272.1726735422899, target_snr: 50\n"
     ]
    },
    {
     "name": "stderr",
     "output_type": "stream",
     "text": [
      "  3%|▎         | 295/10000 [00:27<15:36, 10.36it/s]"
     ]
    },
    {
     "name": "stdout",
     "output_type": "stream",
     "text": [
      "now_snr: 1985.2961976259096, target_snr: 50\n",
      "now_snr: 47.20034700108641, target_snr: 50\n",
      "now_snr: 79.50968626863975, target_snr: 50\n"
     ]
    },
    {
     "name": "stderr",
     "output_type": "stream",
     "text": [
      "  3%|▎         | 299/10000 [00:27<14:50, 10.89it/s]"
     ]
    },
    {
     "name": "stdout",
     "output_type": "stream",
     "text": [
      "now_snr: 165.82495585231632, target_snr: 50\n",
      "now_snr: 849.6692666277232, target_snr: 50\n",
      "now_snr: 1117.6894244834075, target_snr: 50\n"
     ]
    },
    {
     "name": "stderr",
     "output_type": "stream",
     "text": [
      "  3%|▎         | 301/10000 [00:28<14:27, 11.18it/s]"
     ]
    },
    {
     "name": "stdout",
     "output_type": "stream",
     "text": [
      "now_snr: 1249.228781019946, target_snr: 50\n",
      "now_snr: 2077.6893926106304, target_snr: 50\n",
      "now_snr: 811.3138473768795, target_snr: 50\n"
     ]
    },
    {
     "name": "stderr",
     "output_type": "stream",
     "text": [
      "  3%|▎         | 303/10000 [00:28<14:18, 11.30it/s]"
     ]
    },
    {
     "name": "stdout",
     "output_type": "stream",
     "text": [
      "now_snr: 1692.1777633327315, target_snr: 50\n",
      "now_snr: 269.7902627740988, target_snr: 50\n"
     ]
    },
    {
     "name": "stderr",
     "output_type": "stream",
     "text": [
      "  3%|▎         | 307/10000 [00:28<15:19, 10.54it/s]"
     ]
    },
    {
     "name": "stdout",
     "output_type": "stream",
     "text": [
      "now_snr: 14.348945881316753, target_snr: 50\n",
      "now_snr: 3859.1116106452223, target_snr: 50\n",
      "now_snr: 338.3835127428583, target_snr: 50\n"
     ]
    },
    {
     "name": "stderr",
     "output_type": "stream",
     "text": [
      "  3%|▎         | 309/10000 [00:28<14:17, 11.30it/s]"
     ]
    },
    {
     "name": "stdout",
     "output_type": "stream",
     "text": [
      "now_snr: 264.11705049626, target_snr: 50\n",
      "now_snr: 604.215026066303, target_snr: 50\n",
      "now_snr: 243.75345949058877, target_snr: 50\n"
     ]
    },
    {
     "name": "stderr",
     "output_type": "stream",
     "text": [
      "  3%|▎         | 313/10000 [00:29<13:58, 11.55it/s]"
     ]
    },
    {
     "name": "stdout",
     "output_type": "stream",
     "text": [
      "now_snr: 1996.9754613330858, target_snr: 50\n",
      "now_snr: 514.2173482490657, target_snr: 50\n",
      "now_snr: 1186.5922485406743, target_snr: 50\n"
     ]
    },
    {
     "name": "stderr",
     "output_type": "stream",
     "text": [
      "  3%|▎         | 315/10000 [00:29<13:52, 11.63it/s]"
     ]
    },
    {
     "name": "stdout",
     "output_type": "stream",
     "text": [
      "now_snr: 14.521630511894946, target_snr: 50\n",
      "now_snr: 165.27388885784333, target_snr: 50\n",
      "now_snr: 2059.42314452151, target_snr: 50\n"
     ]
    },
    {
     "name": "stderr",
     "output_type": "stream",
     "text": [
      "  3%|▎         | 319/10000 [00:29<13:56, 11.58it/s]"
     ]
    },
    {
     "name": "stdout",
     "output_type": "stream",
     "text": [
      "now_snr: 549.9820656958292, target_snr: 50\n",
      "now_snr: 37.15213693269402, target_snr: 50\n",
      "now_snr: 288.753457494133, target_snr: 50\n"
     ]
    },
    {
     "name": "stderr",
     "output_type": "stream",
     "text": [
      "  3%|▎         | 321/10000 [00:29<13:02, 12.38it/s]"
     ]
    },
    {
     "name": "stdout",
     "output_type": "stream",
     "text": [
      "now_snr: 87.23967260687533, target_snr: 50\n",
      "now_snr: 357.2526876535484, target_snr: 50\n",
      "now_snr: 1554.3780780395573, target_snr: 50\n"
     ]
    },
    {
     "name": "stderr",
     "output_type": "stream",
     "text": [
      "  3%|▎         | 325/10000 [00:30<17:28,  9.23it/s]"
     ]
    },
    {
     "name": "stdout",
     "output_type": "stream",
     "text": [
      "now_snr: 24.588307307300155, target_snr: 50\n",
      "now_snr: 1429.1915826507297, target_snr: 50\n",
      "now_snr: 6817.4784619879865, target_snr: 50\n"
     ]
    },
    {
     "name": "stderr",
     "output_type": "stream",
     "text": [
      "  3%|▎         | 327/10000 [00:30<16:01, 10.06it/s]"
     ]
    },
    {
     "name": "stdout",
     "output_type": "stream",
     "text": [
      "now_snr: 914.5900213023685, target_snr: 50\n",
      "now_snr: 77.98970812921945, target_snr: 50\n",
      "now_snr: 417.2376446441157, target_snr: 50\n"
     ]
    },
    {
     "name": "stderr",
     "output_type": "stream",
     "text": [
      "  3%|▎         | 331/10000 [00:30<14:26, 11.16it/s]"
     ]
    },
    {
     "name": "stdout",
     "output_type": "stream",
     "text": [
      "now_snr: 411.08941127442677, target_snr: 50\n",
      "now_snr: 13.112942944551515, target_snr: 50\n",
      "now_snr: 436.99862260165247, target_snr: 50\n"
     ]
    },
    {
     "name": "stderr",
     "output_type": "stream",
     "text": [
      "  3%|▎         | 333/10000 [00:30<14:21, 11.22it/s]"
     ]
    },
    {
     "name": "stdout",
     "output_type": "stream",
     "text": [
      "now_snr: 399.2593167325734, target_snr: 50\n",
      "now_snr: 4163.398454058063, target_snr: 50\n",
      "now_snr: 236.83622791117295, target_snr: 50\n"
     ]
    },
    {
     "name": "stderr",
     "output_type": "stream",
     "text": [
      "  3%|▎         | 337/10000 [00:31<13:50, 11.63it/s]"
     ]
    },
    {
     "name": "stdout",
     "output_type": "stream",
     "text": [
      "now_snr: 60.973450846265955, target_snr: 50\n",
      "now_snr: 318.85674438656037, target_snr: 50\n",
      "now_snr: 226.01259872961862, target_snr: 50\n"
     ]
    },
    {
     "name": "stderr",
     "output_type": "stream",
     "text": [
      "  3%|▎         | 339/10000 [00:31<13:07, 12.27it/s]"
     ]
    },
    {
     "name": "stdout",
     "output_type": "stream",
     "text": [
      "now_snr: 1685.509527771017, target_snr: 50\n",
      "now_snr: 48.80579551082835, target_snr: 50\n",
      "now_snr: 726.5449282533108, target_snr: 50\n"
     ]
    },
    {
     "name": "stderr",
     "output_type": "stream",
     "text": [
      "  3%|▎         | 343/10000 [00:31<12:59, 12.38it/s]"
     ]
    },
    {
     "name": "stdout",
     "output_type": "stream",
     "text": [
      "now_snr: 3045.0767071334653, target_snr: 50\n",
      "now_snr: 2363.1718047251647, target_snr: 50\n",
      "now_snr: 135.1935274852661, target_snr: 50\n"
     ]
    },
    {
     "name": "stderr",
     "output_type": "stream",
     "text": [
      "  3%|▎         | 345/10000 [00:31<13:39, 11.78it/s]"
     ]
    },
    {
     "name": "stdout",
     "output_type": "stream",
     "text": [
      "now_snr: 426.7604010634288, target_snr: 50\n",
      "now_snr: 77.96206561547383, target_snr: 50\n",
      "now_snr: 69.46010311807538, target_snr: 50\n"
     ]
    },
    {
     "name": "stderr",
     "output_type": "stream",
     "text": [
      "  3%|▎         | 349/10000 [00:32<13:23, 12.01it/s]"
     ]
    },
    {
     "name": "stdout",
     "output_type": "stream",
     "text": [
      "now_snr: 74.95421459176949, target_snr: 50\n",
      "now_snr: 880.8813572870148, target_snr: 50\n",
      "now_snr: 936.10242181692, target_snr: 50\n"
     ]
    },
    {
     "name": "stderr",
     "output_type": "stream",
     "text": [
      "  4%|▎         | 351/10000 [00:32<13:52, 11.59it/s]"
     ]
    },
    {
     "name": "stdout",
     "output_type": "stream",
     "text": [
      "now_snr: 37.13253805951931, target_snr: 50\n",
      "now_snr: 134.29583945330162, target_snr: 50\n",
      "now_snr: 177.8439617197761, target_snr: 50\n"
     ]
    },
    {
     "name": "stderr",
     "output_type": "stream",
     "text": [
      "  4%|▎         | 355/10000 [00:32<13:44, 11.70it/s]"
     ]
    },
    {
     "name": "stdout",
     "output_type": "stream",
     "text": [
      "now_snr: 328.2245569806569, target_snr: 50\n",
      "now_snr: 4383.572203416671, target_snr: 50\n",
      "now_snr: 532.0955647292005, target_snr: 50\n"
     ]
    },
    {
     "name": "stderr",
     "output_type": "stream",
     "text": [
      "  4%|▎         | 357/10000 [00:32<13:56, 11.53it/s]"
     ]
    },
    {
     "name": "stdout",
     "output_type": "stream",
     "text": [
      "now_snr: 98.06456416888228, target_snr: 50\n",
      "now_snr: 48.989490036970686, target_snr: 50\n",
      "now_snr: 275.1459011618044, target_snr: 50\n"
     ]
    },
    {
     "name": "stderr",
     "output_type": "stream",
     "text": [
      "  4%|▎         | 361/10000 [00:33<13:09, 12.21it/s]"
     ]
    },
    {
     "name": "stdout",
     "output_type": "stream",
     "text": [
      "now_snr: 415.96246972281955, target_snr: 50\n",
      "now_snr: 142.02946503276573, target_snr: 50\n",
      "now_snr: 610.5272418907426, target_snr: 50\n"
     ]
    },
    {
     "name": "stderr",
     "output_type": "stream",
     "text": [
      "  4%|▎         | 363/10000 [00:33<13:47, 11.65it/s]"
     ]
    },
    {
     "name": "stdout",
     "output_type": "stream",
     "text": [
      "now_snr: 42.228032197902635, target_snr: 50\n",
      "now_snr: 377.3632940587391, target_snr: 50\n",
      "now_snr: 110.74496906041045, target_snr: 50\n"
     ]
    },
    {
     "name": "stderr",
     "output_type": "stream",
     "text": [
      "  4%|▎         | 365/10000 [00:33<13:52, 11.58it/s]"
     ]
    },
    {
     "name": "stdout",
     "output_type": "stream",
     "text": [
      "now_snr: 216.25408188738518, target_snr: 50\n",
      "now_snr: 566.3041006579347, target_snr: 50\n"
     ]
    },
    {
     "name": "stderr",
     "output_type": "stream",
     "text": [
      "  4%|▎         | 369/10000 [00:34<14:27, 11.10it/s]"
     ]
    },
    {
     "name": "stdout",
     "output_type": "stream",
     "text": [
      "now_snr: 177.88490688169134, target_snr: 50\n",
      "now_snr: 627.2890505768189, target_snr: 50\n",
      "now_snr: 1743.9782054706127, target_snr: 50\n"
     ]
    },
    {
     "name": "stderr",
     "output_type": "stream",
     "text": [
      "  4%|▎         | 371/10000 [00:34<13:42, 11.70it/s]"
     ]
    },
    {
     "name": "stdout",
     "output_type": "stream",
     "text": [
      "now_snr: 843.6137550566075, target_snr: 50\n",
      "now_snr: 193.78542726853692, target_snr: 50\n",
      "now_snr: 138.9427358638658, target_snr: 50\n"
     ]
    },
    {
     "name": "stderr",
     "output_type": "stream",
     "text": [
      "  4%|▍         | 375/10000 [00:34<13:40, 11.73it/s]"
     ]
    },
    {
     "name": "stdout",
     "output_type": "stream",
     "text": [
      "now_snr: 12.592557000066087, target_snr: 50\n",
      "now_snr: 135.37217627921333, target_snr: 50\n",
      "now_snr: 49.50192761020528, target_snr: 50\n"
     ]
    },
    {
     "name": "stderr",
     "output_type": "stream",
     "text": [
      "  4%|▍         | 377/10000 [00:34<13:39, 11.75it/s]"
     ]
    },
    {
     "name": "stdout",
     "output_type": "stream",
     "text": [
      "now_snr: 1381.1163650905896, target_snr: 50\n",
      "now_snr: 1299.297884609736, target_snr: 50\n",
      "now_snr: 93.30597895200926, target_snr: 50\n"
     ]
    },
    {
     "name": "stderr",
     "output_type": "stream",
     "text": [
      "  4%|▍         | 379/10000 [00:34<13:34, 11.81it/s]"
     ]
    },
    {
     "name": "stdout",
     "output_type": "stream",
     "text": [
      "now_snr: 1698.594780151573, target_snr: 50\n",
      "now_snr: 146.22392553438652, target_snr: 50\n"
     ]
    },
    {
     "name": "stderr",
     "output_type": "stream",
     "text": [
      "  4%|▍         | 383/10000 [00:35<14:28, 11.07it/s]"
     ]
    },
    {
     "name": "stdout",
     "output_type": "stream",
     "text": [
      "now_snr: 154.11123500010592, target_snr: 50\n",
      "now_snr: 2462.497982922235, target_snr: 50\n",
      "now_snr: 224.01552073664035, target_snr: 50\n"
     ]
    },
    {
     "name": "stderr",
     "output_type": "stream",
     "text": [
      "  4%|▍         | 385/10000 [00:35<13:59, 11.45it/s]"
     ]
    },
    {
     "name": "stdout",
     "output_type": "stream",
     "text": [
      "now_snr: 277.5214073583581, target_snr: 50\n",
      "now_snr: 364.812193383985, target_snr: 50\n",
      "now_snr: 55.177006931423605, target_snr: 50\n"
     ]
    },
    {
     "name": "stderr",
     "output_type": "stream",
     "text": [
      "  4%|▍         | 389/10000 [00:35<13:49, 11.59it/s]"
     ]
    },
    {
     "name": "stdout",
     "output_type": "stream",
     "text": [
      "now_snr: 311.43336294025363, target_snr: 50\n",
      "now_snr: 27.03218371234297, target_snr: 50\n",
      "now_snr: 341.86310499968937, target_snr: 50\n"
     ]
    },
    {
     "name": "stderr",
     "output_type": "stream",
     "text": [
      "  4%|▍         | 391/10000 [00:35<13:39, 11.72it/s]"
     ]
    },
    {
     "name": "stdout",
     "output_type": "stream",
     "text": [
      "now_snr: 393.9256409667521, target_snr: 50\n",
      "now_snr: 1517.9751751798021, target_snr: 50\n",
      "now_snr: 734.7447613015273, target_snr: 50\n"
     ]
    },
    {
     "name": "stderr",
     "output_type": "stream",
     "text": [
      "  4%|▍         | 395/10000 [00:36<13:54, 11.50it/s]"
     ]
    },
    {
     "name": "stdout",
     "output_type": "stream",
     "text": [
      "now_snr: 15.538230075677596, target_snr: 50\n",
      "now_snr: 197.5255624871787, target_snr: 50\n",
      "now_snr: 64.30924986832551, target_snr: 50\n"
     ]
    },
    {
     "name": "stderr",
     "output_type": "stream",
     "text": [
      "  4%|▍         | 397/10000 [00:36<17:23,  9.20it/s]"
     ]
    },
    {
     "name": "stdout",
     "output_type": "stream",
     "text": [
      "now_snr: 100.77535879668609, target_snr: 50\n",
      "now_snr: 82.87259057568815, target_snr: 50\n",
      "now_snr: 48.11418471002521, target_snr: 50\n"
     ]
    },
    {
     "name": "stderr",
     "output_type": "stream",
     "text": [
      "  4%|▍         | 401/10000 [00:36<15:19, 10.44it/s]"
     ]
    },
    {
     "name": "stdout",
     "output_type": "stream",
     "text": [
      "now_snr: 22.202131213235262, target_snr: 50\n",
      "now_snr: 697.8196249202704, target_snr: 50\n",
      "now_snr: 25.332535229648606, target_snr: 50\n"
     ]
    },
    {
     "name": "stderr",
     "output_type": "stream",
     "text": [
      "  4%|▍         | 403/10000 [00:37<14:10, 11.28it/s]"
     ]
    },
    {
     "name": "stdout",
     "output_type": "stream",
     "text": [
      "now_snr: 561.8635868647191, target_snr: 50\n",
      "now_snr: 52.03173756429394, target_snr: 50\n",
      "now_snr: 3564.0924127001495, target_snr: 50\n"
     ]
    },
    {
     "name": "stderr",
     "output_type": "stream",
     "text": [
      "  4%|▍         | 407/10000 [00:37<14:13, 11.24it/s]"
     ]
    },
    {
     "name": "stdout",
     "output_type": "stream",
     "text": [
      "now_snr: 850.4064730348823, target_snr: 50\n",
      "now_snr: 899.0878768720867, target_snr: 50\n",
      "now_snr: 918.9449770769622, target_snr: 50\n"
     ]
    },
    {
     "name": "stderr",
     "output_type": "stream",
     "text": [
      "  4%|▍         | 409/10000 [00:37<13:34, 11.78it/s]"
     ]
    },
    {
     "name": "stdout",
     "output_type": "stream",
     "text": [
      "now_snr: 193.39420674738275, target_snr: 50\n",
      "now_snr: 457.64124088847785, target_snr: 50\n",
      "now_snr: 82.12088072154607, target_snr: 50\n"
     ]
    },
    {
     "name": "stderr",
     "output_type": "stream",
     "text": [
      "  4%|▍         | 413/10000 [00:37<13:39, 11.70it/s]"
     ]
    },
    {
     "name": "stdout",
     "output_type": "stream",
     "text": [
      "now_snr: 10.944308988927368, target_snr: 50\n",
      "now_snr: 620.2854717486912, target_snr: 50\n",
      "now_snr: 5718.025660786778, target_snr: 50\n"
     ]
    },
    {
     "name": "stderr",
     "output_type": "stream",
     "text": [
      "  4%|▍         | 415/10000 [00:38<14:22, 11.11it/s]"
     ]
    },
    {
     "name": "stdout",
     "output_type": "stream",
     "text": [
      "now_snr: 19.800979214424125, target_snr: 50\n",
      "now_snr: 694.3879933281623, target_snr: 50\n",
      "now_snr: 250.543060486761, target_snr: 50\n"
     ]
    },
    {
     "name": "stderr",
     "output_type": "stream",
     "text": [
      "  4%|▍         | 417/10000 [00:38<14:46, 10.82it/s]"
     ]
    },
    {
     "name": "stdout",
     "output_type": "stream",
     "text": [
      "now_snr: 118.44675435677084, target_snr: 50\n"
     ]
    },
    {
     "name": "stderr",
     "output_type": "stream",
     "text": [
      "  4%|▍         | 419/10000 [00:38<22:47,  7.01it/s]"
     ]
    },
    {
     "name": "stdout",
     "output_type": "stream",
     "text": [
      "now_snr: 3.8399845494237783, target_snr: 50\n",
      "now_snr: 37.177110693758266, target_snr: 50\n"
     ]
    },
    {
     "name": "stderr",
     "output_type": "stream",
     "text": [
      "  4%|▍         | 422/10000 [00:39<21:47,  7.32it/s]"
     ]
    },
    {
     "name": "stdout",
     "output_type": "stream",
     "text": [
      "now_snr: 20817.0223432845, target_snr: 50\n",
      "now_snr: 34.5687653444824, target_snr: 50\n",
      "now_snr: 341.6059526956311, target_snr: 50\n"
     ]
    },
    {
     "name": "stderr",
     "output_type": "stream",
     "text": [
      "  4%|▍         | 424/10000 [00:39<19:05,  8.36it/s]"
     ]
    },
    {
     "name": "stdout",
     "output_type": "stream",
     "text": [
      "now_snr: 1240.074855133412, target_snr: 50\n",
      "now_snr: 397.84404852163107, target_snr: 50\n",
      "now_snr: 100.6010142303673, target_snr: 50\n"
     ]
    },
    {
     "name": "stderr",
     "output_type": "stream",
     "text": [
      "  4%|▍         | 425/10000 [00:39<18:49,  8.48it/s]"
     ]
    },
    {
     "name": "stdout",
     "output_type": "stream",
     "text": [
      "now_snr: 15.238544881285563, target_snr: 50\n"
     ]
    },
    {
     "name": "stderr",
     "output_type": "stream",
     "text": [
      "  4%|▍         | 429/10000 [00:40<26:20,  6.05it/s]"
     ]
    },
    {
     "name": "stdout",
     "output_type": "stream",
     "text": [
      "now_snr: 6.088604067141747, target_snr: 50\n",
      "now_snr: 349.58466252344726, target_snr: 50\n",
      "now_snr: 30.872005250171988, target_snr: 50\n"
     ]
    },
    {
     "name": "stderr",
     "output_type": "stream",
     "text": [
      "  4%|▍         | 432/10000 [00:40<20:58,  7.60it/s]"
     ]
    },
    {
     "name": "stdout",
     "output_type": "stream",
     "text": [
      "now_snr: 57.453134210979776, target_snr: 50\n",
      "now_snr: 1165.4977709676318, target_snr: 50\n",
      "now_snr: 314.711639086152, target_snr: 50\n"
     ]
    },
    {
     "name": "stderr",
     "output_type": "stream",
     "text": [
      "  4%|▍         | 434/10000 [00:40<18:09,  8.78it/s]"
     ]
    },
    {
     "name": "stdout",
     "output_type": "stream",
     "text": [
      "now_snr: 1268.1276136685242, target_snr: 50\n",
      "now_snr: 428.0353124410988, target_snr: 50\n",
      "now_snr: 19.200222378054146, target_snr: 50\n"
     ]
    },
    {
     "name": "stderr",
     "output_type": "stream",
     "text": [
      "  4%|▍         | 438/10000 [00:41<15:16, 10.44it/s]"
     ]
    },
    {
     "name": "stdout",
     "output_type": "stream",
     "text": [
      "now_snr: 1182.69812545794, target_snr: 50\n",
      "now_snr: 872.3713961181211, target_snr: 50\n",
      "now_snr: 116.47722820909702, target_snr: 50\n"
     ]
    },
    {
     "name": "stderr",
     "output_type": "stream",
     "text": [
      "  4%|▍         | 440/10000 [00:41<15:22, 10.37it/s]"
     ]
    },
    {
     "name": "stdout",
     "output_type": "stream",
     "text": [
      "now_snr: 237.5129273842507, target_snr: 50\n",
      "now_snr: 444.989044579081, target_snr: 50\n",
      "now_snr: 18.65106501723377, target_snr: 50\n"
     ]
    },
    {
     "name": "stderr",
     "output_type": "stream",
     "text": [
      "  4%|▍         | 444/10000 [00:41<14:27, 11.01it/s]"
     ]
    },
    {
     "name": "stdout",
     "output_type": "stream",
     "text": [
      "now_snr: 541.2484452380271, target_snr: 50\n",
      "now_snr: 21.490315640015268, target_snr: 50\n",
      "now_snr: 53.34991287379638, target_snr: 50\n"
     ]
    },
    {
     "name": "stderr",
     "output_type": "stream",
     "text": [
      "  4%|▍         | 446/10000 [00:41<13:30, 11.79it/s]"
     ]
    },
    {
     "name": "stdout",
     "output_type": "stream",
     "text": [
      "now_snr: 85.58991137637258, target_snr: 50\n",
      "now_snr: 227.44576338115152, target_snr: 50\n",
      "now_snr: 240.75941583087152, target_snr: 50\n"
     ]
    },
    {
     "name": "stderr",
     "output_type": "stream",
     "text": [
      "  4%|▍         | 450/10000 [00:42<12:41, 12.54it/s]"
     ]
    },
    {
     "name": "stdout",
     "output_type": "stream",
     "text": [
      "now_snr: 431.9870991959797, target_snr: 50\n",
      "now_snr: 1150.9177397774708, target_snr: 50\n",
      "now_snr: 174.4566722727831, target_snr: 50\n"
     ]
    },
    {
     "name": "stderr",
     "output_type": "stream",
     "text": [
      "  5%|▍         | 452/10000 [00:42<12:38, 12.59it/s]"
     ]
    },
    {
     "name": "stdout",
     "output_type": "stream",
     "text": [
      "now_snr: 26.939767874842673, target_snr: 50\n",
      "now_snr: 443.21234883104364, target_snr: 50\n",
      "now_snr: 1676.6498913647388, target_snr: 50\n"
     ]
    },
    {
     "name": "stderr",
     "output_type": "stream",
     "text": [
      "  5%|▍         | 456/10000 [00:42<13:07, 12.11it/s]"
     ]
    },
    {
     "name": "stdout",
     "output_type": "stream",
     "text": [
      "now_snr: 17842.78555371812, target_snr: 50\n",
      "now_snr: 172.18601078067738, target_snr: 50\n",
      "now_snr: 582.5459741924784, target_snr: 50\n"
     ]
    },
    {
     "name": "stderr",
     "output_type": "stream",
     "text": [
      "  5%|▍         | 458/10000 [00:42<13:10, 12.07it/s]"
     ]
    },
    {
     "name": "stdout",
     "output_type": "stream",
     "text": [
      "now_snr: 1959.2259752156074, target_snr: 50\n",
      "now_snr: 42.39607662122661, target_snr: 50\n",
      "now_snr: 1660.479230444018, target_snr: 50\n"
     ]
    },
    {
     "name": "stderr",
     "output_type": "stream",
     "text": [
      "  5%|▍         | 462/10000 [00:43<13:59, 11.36it/s]"
     ]
    },
    {
     "name": "stdout",
     "output_type": "stream",
     "text": [
      "now_snr: 565.2457504870254, target_snr: 50\n",
      "now_snr: 232.81782478753112, target_snr: 50\n",
      "now_snr: 38.95269627777467, target_snr: 50\n"
     ]
    },
    {
     "name": "stderr",
     "output_type": "stream",
     "text": [
      "  5%|▍         | 464/10000 [00:43<13:50, 11.48it/s]"
     ]
    },
    {
     "name": "stdout",
     "output_type": "stream",
     "text": [
      "now_snr: 1663.0479758231957, target_snr: 50\n",
      "now_snr: 404.836560983871, target_snr: 50\n",
      "now_snr: 55.11991855923841, target_snr: 50\n"
     ]
    },
    {
     "name": "stderr",
     "output_type": "stream",
     "text": [
      "  5%|▍         | 466/10000 [00:43<13:23, 11.86it/s]"
     ]
    },
    {
     "name": "stdout",
     "output_type": "stream",
     "text": [
      "now_snr: 359.7274025493417, target_snr: 50\n",
      "now_snr: 365.3710137895624, target_snr: 50\n"
     ]
    },
    {
     "name": "stderr",
     "output_type": "stream",
     "text": [
      "  5%|▍         | 470/10000 [00:44<14:26, 11.00it/s]"
     ]
    },
    {
     "name": "stdout",
     "output_type": "stream",
     "text": [
      "now_snr: 140.68004138041033, target_snr: 50\n",
      "now_snr: 67.07466719170681, target_snr: 50\n",
      "now_snr: 1128.1561476579736, target_snr: 50\n"
     ]
    },
    {
     "name": "stderr",
     "output_type": "stream",
     "text": [
      "  5%|▍         | 472/10000 [00:44<14:02, 11.30it/s]"
     ]
    },
    {
     "name": "stdout",
     "output_type": "stream",
     "text": [
      "now_snr: 696.6879231748966, target_snr: 50\n",
      "now_snr: 288.3760806542337, target_snr: 50\n",
      "now_snr: 147.08811750534542, target_snr: 50\n"
     ]
    },
    {
     "name": "stderr",
     "output_type": "stream",
     "text": [
      "  5%|▍         | 476/10000 [00:44<13:11, 12.03it/s]"
     ]
    },
    {
     "name": "stdout",
     "output_type": "stream",
     "text": [
      "now_snr: 2166.788169178955, target_snr: 50\n",
      "now_snr: 7.852753734530918, target_snr: 50\n",
      "now_snr: 34.833600686347864, target_snr: 50\n"
     ]
    },
    {
     "name": "stderr",
     "output_type": "stream",
     "text": [
      "  5%|▍         | 480/10000 [00:44<11:34, 13.70it/s]"
     ]
    },
    {
     "name": "stdout",
     "output_type": "stream",
     "text": [
      "now_snr: 41.5291086810663, target_snr: 50\n",
      "now_snr: 1887.2168660749655, target_snr: 50\n",
      "now_snr: 798.2550942102391, target_snr: 50\n",
      "now_snr: 160.10688839565185, target_snr: 50\n"
     ]
    },
    {
     "name": "stderr",
     "output_type": "stream",
     "text": [
      "  5%|▍         | 482/10000 [00:44<11:46, 13.47it/s]"
     ]
    },
    {
     "name": "stdout",
     "output_type": "stream",
     "text": [
      "now_snr: 1700.421544233248, target_snr: 50\n",
      "now_snr: 407.8748006997027, target_snr: 50\n",
      "now_snr: 967.1839732626458, target_snr: 50\n"
     ]
    },
    {
     "name": "stderr",
     "output_type": "stream",
     "text": [
      "  5%|▍         | 486/10000 [00:45<12:06, 13.10it/s]"
     ]
    },
    {
     "name": "stdout",
     "output_type": "stream",
     "text": [
      "now_snr: 67.73419237663204, target_snr: 50\n",
      "now_snr: 2110.7971915620783, target_snr: 50\n",
      "now_snr: 165.57333150525506, target_snr: 50\n"
     ]
    },
    {
     "name": "stderr",
     "output_type": "stream",
     "text": [
      "  5%|▍         | 488/10000 [00:45<12:11, 13.01it/s]"
     ]
    },
    {
     "name": "stdout",
     "output_type": "stream",
     "text": [
      "now_snr: 202.99521717058298, target_snr: 50\n",
      "now_snr: 31.697521711360213, target_snr: 50\n",
      "now_snr: 34.77861686508384, target_snr: 50\n"
     ]
    },
    {
     "name": "stderr",
     "output_type": "stream",
     "text": [
      "  5%|▍         | 492/10000 [00:45<12:35, 12.58it/s]"
     ]
    },
    {
     "name": "stdout",
     "output_type": "stream",
     "text": [
      "now_snr: 8797.35910162555, target_snr: 50\n",
      "now_snr: 9084.175261022881, target_snr: 50\n",
      "now_snr: 697.1741411157706, target_snr: 50\n"
     ]
    },
    {
     "name": "stderr",
     "output_type": "stream",
     "text": [
      "  5%|▍         | 494/10000 [00:45<12:21, 12.82it/s]"
     ]
    },
    {
     "name": "stdout",
     "output_type": "stream",
     "text": [
      "now_snr: 164.33661122827496, target_snr: 50\n",
      "now_snr: 1874.2552024812376, target_snr: 50\n",
      "now_snr: 766.0874317006482, target_snr: 50\n"
     ]
    },
    {
     "name": "stderr",
     "output_type": "stream",
     "text": [
      "  5%|▍         | 498/10000 [00:46<13:00, 12.17it/s]"
     ]
    },
    {
     "name": "stdout",
     "output_type": "stream",
     "text": [
      "now_snr: 0.5753071792466349, target_snr: 50\n",
      "now_snr: 576.0421880953947, target_snr: 50\n",
      "now_snr: 4646.835333324335, target_snr: 50\n"
     ]
    },
    {
     "name": "stderr",
     "output_type": "stream",
     "text": [
      "  5%|▌         | 500/10000 [00:46<12:38, 12.53it/s]"
     ]
    },
    {
     "name": "stdout",
     "output_type": "stream",
     "text": [
      "now_snr: 1854.8216701000447, target_snr: 50\n",
      "now_snr: 25.02767745140772, target_snr: 50\n",
      "now_snr: 34.3146740747978, target_snr: 50\n"
     ]
    },
    {
     "name": "stderr",
     "output_type": "stream",
     "text": [
      "  5%|▌         | 504/10000 [00:46<12:49, 12.34it/s]"
     ]
    },
    {
     "name": "stdout",
     "output_type": "stream",
     "text": [
      "now_snr: 106.67229873020456, target_snr: 50\n",
      "now_snr: 132.71223856671944, target_snr: 50\n",
      "now_snr: 107.93058533669401, target_snr: 50\n"
     ]
    },
    {
     "name": "stderr",
     "output_type": "stream",
     "text": [
      "  5%|▌         | 506/10000 [00:46<12:46, 12.38it/s]"
     ]
    },
    {
     "name": "stdout",
     "output_type": "stream",
     "text": [
      "now_snr: 864.334388156897, target_snr: 50\n",
      "now_snr: 471.81332901097113, target_snr: 50\n",
      "now_snr: 602.2198918192618, target_snr: 50\n"
     ]
    },
    {
     "name": "stderr",
     "output_type": "stream",
     "text": [
      "  5%|▌         | 510/10000 [00:47<12:54, 12.25it/s]"
     ]
    },
    {
     "name": "stdout",
     "output_type": "stream",
     "text": [
      "now_snr: 1327.7191656819782, target_snr: 50\n",
      "now_snr: 108.16452441396676, target_snr: 50\n",
      "now_snr: 133.74683766442442, target_snr: 50\n"
     ]
    },
    {
     "name": "stderr",
     "output_type": "stream",
     "text": [
      "  5%|▌         | 512/10000 [00:47<12:38, 12.51it/s]"
     ]
    },
    {
     "name": "stdout",
     "output_type": "stream",
     "text": [
      "now_snr: 21.62854450776839, target_snr: 50\n",
      "now_snr: 20.363672236689034, target_snr: 50\n",
      "now_snr: 125.6782507555593, target_snr: 50\n"
     ]
    },
    {
     "name": "stderr",
     "output_type": "stream",
     "text": [
      "  5%|▌         | 516/10000 [00:47<13:01, 12.13it/s]"
     ]
    },
    {
     "name": "stdout",
     "output_type": "stream",
     "text": [
      "now_snr: 588.1606532135211, target_snr: 50\n",
      "now_snr: 446.5043787331674, target_snr: 50\n",
      "now_snr: 2120.1516581227716, target_snr: 50\n"
     ]
    },
    {
     "name": "stderr",
     "output_type": "stream",
     "text": [
      "  5%|▌         | 518/10000 [00:47<12:56, 12.21it/s]"
     ]
    },
    {
     "name": "stdout",
     "output_type": "stream",
     "text": [
      "now_snr: 730.0258338544862, target_snr: 50\n",
      "now_snr: 559.5951788195731, target_snr: 50\n",
      "now_snr: 72.33596082479077, target_snr: 50\n"
     ]
    },
    {
     "name": "stderr",
     "output_type": "stream",
     "text": [
      "  5%|▌         | 522/10000 [00:48<12:45, 12.38it/s]"
     ]
    },
    {
     "name": "stdout",
     "output_type": "stream",
     "text": [
      "now_snr: 150.21854907270992, target_snr: 50\n",
      "now_snr: 693.6208167987862, target_snr: 50\n",
      "now_snr: 975.5955996761404, target_snr: 50\n"
     ]
    },
    {
     "name": "stderr",
     "output_type": "stream",
     "text": [
      "  5%|▌         | 524/10000 [00:48<13:15, 11.91it/s]"
     ]
    },
    {
     "name": "stdout",
     "output_type": "stream",
     "text": [
      "now_snr: 1077.2041680468199, target_snr: 50\n",
      "now_snr: 367.0517606884566, target_snr: 50\n",
      "now_snr: 152.02759080282453, target_snr: 50\n"
     ]
    },
    {
     "name": "stderr",
     "output_type": "stream",
     "text": [
      "  5%|▌         | 526/10000 [00:48<12:45, 12.38it/s]"
     ]
    },
    {
     "name": "stdout",
     "output_type": "stream",
     "text": [
      "now_snr: 749.3896838316407, target_snr: 50\n"
     ]
    },
    {
     "name": "stderr",
     "output_type": "stream",
     "text": [
      "  5%|▌         | 528/10000 [00:49<42:38,  3.70it/s]"
     ]
    },
    {
     "name": "stdout",
     "output_type": "stream",
     "text": [
      "now_snr: 5599.216076983811, target_snr: 50\n",
      "now_snr: 328.0496657149559, target_snr: 50\n"
     ]
    },
    {
     "name": "stderr",
     "output_type": "stream",
     "text": [
      "  5%|▌         | 529/10000 [00:50<39:56,  3.95it/s]"
     ]
    },
    {
     "name": "stdout",
     "output_type": "stream",
     "text": [
      "now_snr: 8993.165151608493, target_snr: 50\n",
      "now_snr: 188.8196535736272, target_snr: 50\n"
     ]
    },
    {
     "name": "stderr",
     "output_type": "stream",
     "text": [
      "  5%|▌         | 533/10000 [00:50<31:10,  5.06it/s]"
     ]
    },
    {
     "name": "stdout",
     "output_type": "stream",
     "text": [
      "now_snr: 9070.102820363922, target_snr: 50\n",
      "now_snr: 1496.9812410735015, target_snr: 50\n",
      "now_snr: 157.71455748925644, target_snr: 50\n"
     ]
    },
    {
     "name": "stderr",
     "output_type": "stream",
     "text": [
      "  5%|▌         | 534/10000 [00:50<28:31,  5.53it/s]"
     ]
    },
    {
     "name": "stdout",
     "output_type": "stream",
     "text": [
      "now_snr: 46.70295086906124, target_snr: 50\n",
      "now_snr: 1747.8636005325156, target_snr: 50\n"
     ]
    },
    {
     "name": "stderr",
     "output_type": "stream",
     "text": [
      "  5%|▌         | 538/10000 [00:51<20:55,  7.54it/s]"
     ]
    },
    {
     "name": "stdout",
     "output_type": "stream",
     "text": [
      "now_snr: 213.52518261658702, target_snr: 50\n",
      "now_snr: 1401.2457579302504, target_snr: 50\n",
      "now_snr: 1414.2034814781275, target_snr: 50\n"
     ]
    },
    {
     "name": "stderr",
     "output_type": "stream",
     "text": [
      "  5%|▌         | 540/10000 [00:51<17:38,  8.94it/s]"
     ]
    },
    {
     "name": "stdout",
     "output_type": "stream",
     "text": [
      "now_snr: 117.77650028787158, target_snr: 50\n",
      "now_snr: 483.3149210566299, target_snr: 50\n",
      "now_snr: 235.1877617962845, target_snr: 50\n"
     ]
    },
    {
     "name": "stderr",
     "output_type": "stream",
     "text": [
      "  5%|▌         | 544/10000 [00:51<17:11,  9.16it/s]"
     ]
    },
    {
     "name": "stdout",
     "output_type": "stream",
     "text": [
      "now_snr: 13.174933609861396, target_snr: 50\n",
      "now_snr: 1017.4475101721932, target_snr: 50\n",
      "now_snr: 479.17776786243945, target_snr: 50\n"
     ]
    },
    {
     "name": "stderr",
     "output_type": "stream",
     "text": [
      "  5%|▌         | 546/10000 [00:51<15:41, 10.04it/s]"
     ]
    },
    {
     "name": "stdout",
     "output_type": "stream",
     "text": [
      "now_snr: 155.329274122563, target_snr: 50\n",
      "now_snr: 105.6511328201417, target_snr: 50\n",
      "now_snr: 119.64415256607676, target_snr: 50\n"
     ]
    },
    {
     "name": "stderr",
     "output_type": "stream",
     "text": [
      "  6%|▌         | 550/10000 [00:52<14:48, 10.64it/s]"
     ]
    },
    {
     "name": "stdout",
     "output_type": "stream",
     "text": [
      "now_snr: 199.8215084841056, target_snr: 50\n",
      "now_snr: 2754.0074879336803, target_snr: 50\n",
      "now_snr: 576.294701508384, target_snr: 50\n"
     ]
    },
    {
     "name": "stderr",
     "output_type": "stream",
     "text": [
      "  6%|▌         | 552/10000 [00:52<14:32, 10.83it/s]"
     ]
    },
    {
     "name": "stdout",
     "output_type": "stream",
     "text": [
      "now_snr: 189.56054688621253, target_snr: 50\n",
      "now_snr: 2766.4075934586285, target_snr: 50\n",
      "now_snr: 167.75191909691839, target_snr: 50\n"
     ]
    },
    {
     "name": "stderr",
     "output_type": "stream",
     "text": [
      "  6%|▌         | 554/10000 [00:52<13:47, 11.42it/s]XLAL Error - Starting frequency is above ringdown frequency!\n",
      "XLAL Error - XLALSimIMRSpinAlignedEOBModes (LALSimIMRSpinAlignedEOB.c:1275): Invalid argument\n",
      "XLAL Error - XLALSimIMRSpinAlignedEOBWaveformAll (LALSimIMRSpinAlignedEOB.c:3912): Internal function call failed: Invalid argument\n",
      "XLAL Error - XLALSimIMRSpinAlignedEOBWaveform (LALSimIMRSpinAlignedEOB.c:783): Internal function call failed: Invalid argument\n",
      "XLAL Error - XLALSimInspiralChooseTDWaveform_legacy (LALSimInspiralGeneratorLegacy.c:1240): Internal function call failed: Invalid argument\n",
      "  6%|▌         | 555/10000 [00:52<14:57, 10.53it/s]"
     ]
    },
    {
     "name": "stdout",
     "output_type": "stream",
     "text": [
      "now_snr: 149.90041554985785, target_snr: 50\n",
      "now_snr: 67.62071059229092, target_snr: 50\n"
     ]
    },
    {
     "name": "stderr",
     "output_type": "stream",
     "text": [
      "\n"
     ]
    },
    {
     "ename": "RuntimeError",
     "evalue": "Internal function call failed: Invalid argument",
     "output_type": "error",
     "traceback": [
      "\u001b[0;31m---------------------------------------------------------------------------\u001b[0m",
      "\u001b[0;31mRuntimeError\u001b[0m                              Traceback (most recent call last)",
      "Cell \u001b[0;32mIn[23], line 17\u001b[0m\n\u001b[1;32m     14\u001b[0m dgpc \u001b[38;5;241m=\u001b[39m np\u001b[38;5;241m.\u001b[39mrandom\u001b[38;5;241m.\u001b[39muniform(\u001b[38;5;241m10\u001b[39m, \u001b[38;5;241m15\u001b[39m)\n\u001b[1;32m     15\u001b[0m D \u001b[38;5;241m=\u001b[39m dgpc\u001b[38;5;241m*\u001b[39m\u001b[38;5;241m1000\u001b[39m\n\u001b[0;32m---> 17\u001b[0m chans \u001b[38;5;241m=\u001b[39m \u001b[43mmbhb_taiji\u001b[49m\u001b[43m(\u001b[49m\u001b[43mMc\u001b[49m\u001b[43m,\u001b[49m\u001b[43m \u001b[49m\u001b[43mq\u001b[49m\u001b[43m,\u001b[49m\u001b[43m \u001b[49m\u001b[43ma1\u001b[49m\u001b[43m,\u001b[49m\u001b[43m \u001b[49m\u001b[43ma2\u001b[49m\u001b[43m,\u001b[49m\u001b[43m \u001b[49m\u001b[43mtc\u001b[49m\u001b[43m,\u001b[49m\u001b[43m \u001b[49m\u001b[43mphic\u001b[49m\u001b[43m,\u001b[49m\u001b[43m \u001b[49m\u001b[43mD\u001b[49m\u001b[43m,\u001b[49m\u001b[43m \u001b[49m\u001b[43minc\u001b[49m\u001b[43m,\u001b[49m\u001b[43m \u001b[49m\u001b[43mpsi\u001b[49m\u001b[43m,\u001b[49m\u001b[43m \u001b[49m\u001b[43mlam\u001b[49m\u001b[43m,\u001b[49m\u001b[43m \u001b[49m\u001b[43mbeta\u001b[49m\u001b[43m,\u001b[49m\u001b[43m \u001b[49m\u001b[43mdt\u001b[49m\u001b[38;5;241;43m=\u001b[39;49m\u001b[43mdt\u001b[49m\u001b[43m)\u001b[49m\n\u001b[1;32m     19\u001b[0m \u001b[38;5;66;03m# cut the error data\u001b[39;00m\n\u001b[1;32m     20\u001b[0m \u001b[38;5;66;03m# times = np.arange(len(chans[0])) * dt + t0\u001b[39;00m\n\u001b[1;32m     21\u001b[0m \u001b[38;5;66;03m# chans = CutJumpPointsForTDI2(chans, Mc, tc, times)\u001b[39;00m\n\u001b[1;32m     23\u001b[0m chans \u001b[38;5;241m=\u001b[39m cp\u001b[38;5;241m.\u001b[39marray(chans[\u001b[38;5;241m0\u001b[39m])\n",
      "File \u001b[0;32m~/miniconda3/envs/cppcuda/lib/python3.9/site-packages/response-1.0.2-py3.9-linux-x86_64.egg/fastlisaresponse/response.py:897\u001b[0m, in \u001b[0;36mResponseWrapper.__call__\u001b[0;34m(self, *args, **kwargs)\u001b[0m\n\u001b[1;32m    894\u001b[0m kwargs[\u001b[38;5;124m\"\u001b[39m\u001b[38;5;124mdt\u001b[39m\u001b[38;5;124m\"\u001b[39m] \u001b[38;5;241m=\u001b[39m \u001b[38;5;28mself\u001b[39m\u001b[38;5;241m.\u001b[39mdt\n\u001b[1;32m    896\u001b[0m \u001b[38;5;66;03m# get the waveform\u001b[39;00m\n\u001b[0;32m--> 897\u001b[0m h \u001b[38;5;241m=\u001b[39m \u001b[38;5;28;43mself\u001b[39;49m\u001b[38;5;241;43m.\u001b[39;49m\u001b[43mwaveform_gen\u001b[49m\u001b[43m(\u001b[49m\u001b[38;5;241;43m*\u001b[39;49m\u001b[43margs\u001b[49m\u001b[43m,\u001b[49m\u001b[43m \u001b[49m\u001b[38;5;241;43m*\u001b[39;49m\u001b[38;5;241;43m*\u001b[39;49m\u001b[43mkwargs\u001b[49m\u001b[43m)\u001b[49m\n\u001b[1;32m    899\u001b[0m \u001b[38;5;28;01mif\u001b[39;00m \u001b[38;5;28mself\u001b[39m\u001b[38;5;241m.\u001b[39mflip_hx:\n\u001b[1;32m    900\u001b[0m     h \u001b[38;5;241m=\u001b[39m h\u001b[38;5;241m.\u001b[39mreal \u001b[38;5;241m-\u001b[39m \u001b[38;5;241m1\u001b[39mj \u001b[38;5;241m*\u001b[39m h\u001b[38;5;241m.\u001b[39mimag\n",
      "Cell \u001b[0;32mIn[4], line 22\u001b[0m, in \u001b[0;36mMBHBWaveform.__call__\u001b[0;34m(self, Mc, q, a1, a2, tc, phic, D, inc, psi, T, dt)\u001b[0m\n\u001b[1;32m     19\u001b[0m     f_lower \u001b[38;5;241m=\u001b[39m \u001b[38;5;28mself\u001b[39m\u001b[38;5;241m.\u001b[39mf_lower\n\u001b[1;32m     21\u001b[0m \u001b[38;5;66;03m# source frame waveform data \u001b[39;00m\n\u001b[0;32m---> 22\u001b[0m hp, hc \u001b[38;5;241m=\u001b[39m \u001b[43mwf\u001b[49m\u001b[38;5;241;43m.\u001b[39;49m\u001b[43mget_td_waveform\u001b[49m\u001b[43m(\u001b[49m\u001b[43mapproximant\u001b[49m\u001b[43m \u001b[49m\u001b[38;5;241;43m=\u001b[39;49m\u001b[43m \u001b[49m\u001b[38;5;28;43mself\u001b[39;49m\u001b[38;5;241;43m.\u001b[39;49m\u001b[43mapprox_method\u001b[49m\u001b[43m,\u001b[49m\u001b[43m \u001b[49m\u001b[43mmass1\u001b[49m\u001b[43m \u001b[49m\u001b[38;5;241;43m=\u001b[39;49m\u001b[43m \u001b[49m\u001b[43mm1\u001b[49m\u001b[43m,\u001b[49m\u001b[43m \u001b[49m\u001b[43mmass2\u001b[49m\u001b[43m \u001b[49m\u001b[38;5;241;43m=\u001b[39;49m\u001b[43m \u001b[49m\u001b[43mm2\u001b[49m\u001b[43m,\u001b[49m\u001b[43m \u001b[49m\u001b[43m\\\u001b[49m\n\u001b[1;32m     23\u001b[0m \u001b[43m                            \u001b[49m\u001b[43mspin1z\u001b[49m\u001b[43m \u001b[49m\u001b[38;5;241;43m=\u001b[39;49m\u001b[43m \u001b[49m\u001b[43ma1\u001b[49m\u001b[43m,\u001b[49m\u001b[43m \u001b[49m\u001b[43mspin2z\u001b[49m\u001b[43m \u001b[49m\u001b[38;5;241;43m=\u001b[39;49m\u001b[43m \u001b[49m\u001b[43ma2\u001b[49m\u001b[43m,\u001b[49m\u001b[43m \u001b[49m\u001b[43mcoa_phase\u001b[49m\u001b[43m \u001b[49m\u001b[38;5;241;43m=\u001b[39;49m\u001b[43m \u001b[49m\u001b[43mphic\u001b[49m\u001b[43m,\u001b[49m\u001b[43m \u001b[49m\u001b[43minclination\u001b[49m\u001b[43m \u001b[49m\u001b[38;5;241;43m=\u001b[39;49m\u001b[43m \u001b[49m\u001b[43minc\u001b[49m\u001b[43m,\u001b[49m\u001b[43m \u001b[49m\u001b[43m\\\u001b[49m\n\u001b[1;32m     24\u001b[0m \u001b[43m                            \u001b[49m\u001b[43mdelta_t\u001b[49m\u001b[43m \u001b[49m\u001b[38;5;241;43m=\u001b[39;49m\u001b[43m \u001b[49m\u001b[43mdt\u001b[49m\u001b[43m,\u001b[49m\u001b[43m \u001b[49m\u001b[43mf_lower\u001b[49m\u001b[43m \u001b[49m\u001b[38;5;241;43m=\u001b[39;49m\u001b[43m \u001b[49m\u001b[43mf_lower\u001b[49m\u001b[43m,\u001b[49m\u001b[43m \u001b[49m\u001b[43mdistance\u001b[49m\u001b[43m \u001b[49m\u001b[38;5;241;43m=\u001b[39;49m\u001b[43m \u001b[49m\u001b[43mD\u001b[49m\u001b[43m)\u001b[49m\n\u001b[1;32m     25\u001b[0m hp, hc \u001b[38;5;241m=\u001b[39m hp\u001b[38;5;241m.\u001b[39mtrim_zeros(), hc\u001b[38;5;241m.\u001b[39mtrim_zeros()\n\u001b[1;32m     26\u001b[0m hSp_data \u001b[38;5;241m=\u001b[39m np\u001b[38;5;241m.\u001b[39marray(hp)\n",
      "File \u001b[0;32m~/miniconda3/envs/cppcuda/lib/python3.9/site-packages/pycbc/waveform/waveform.py:597\u001b[0m, in \u001b[0;36mget_td_waveform\u001b[0;34m(template, **kwargs)\u001b[0m\n\u001b[1;32m    595\u001b[0m     required \u001b[38;5;241m=\u001b[39m parameters\u001b[38;5;241m.\u001b[39mtd_required\n\u001b[1;32m    596\u001b[0m check_args(input_params, required)\n\u001b[0;32m--> 597\u001b[0m \u001b[38;5;28;01mreturn\u001b[39;00m \u001b[43mwav_gen\u001b[49m\u001b[43m(\u001b[49m\u001b[38;5;241;43m*\u001b[39;49m\u001b[38;5;241;43m*\u001b[39;49m\u001b[43minput_params\u001b[49m\u001b[43m)\u001b[49m\n",
      "File \u001b[0;32m~/miniconda3/envs/cppcuda/lib/python3.9/site-packages/pycbc/waveform/waveform.py:179\u001b[0m, in \u001b[0;36m_lalsim_td_waveform\u001b[0;34m(**p)\u001b[0m\n\u001b[1;32m    176\u001b[0m \u001b[38;5;66;03m#nonGRparams can be straightforwardly added if needed, however they have to\u001b[39;00m\n\u001b[1;32m    177\u001b[0m \u001b[38;5;66;03m# be invoked one by one\u001b[39;00m\n\u001b[1;32m    178\u001b[0m \u001b[38;5;28;01mtry\u001b[39;00m:\n\u001b[0;32m--> 179\u001b[0m     hp1, hc1 \u001b[38;5;241m=\u001b[39m \u001b[43mlalsimulation\u001b[49m\u001b[38;5;241;43m.\u001b[39;49m\u001b[43mSimInspiralChooseTDWaveform\u001b[49m\u001b[43m(\u001b[49m\n\u001b[1;32m    180\u001b[0m \u001b[43m           \u001b[49m\u001b[38;5;28;43mfloat\u001b[39;49m\u001b[43m(\u001b[49m\u001b[43mpnutils\u001b[49m\u001b[38;5;241;43m.\u001b[39;49m\u001b[43msolar_mass_to_kg\u001b[49m\u001b[43m(\u001b[49m\u001b[43mp\u001b[49m\u001b[43m[\u001b[49m\u001b[38;5;124;43m'\u001b[39;49m\u001b[38;5;124;43mmass1\u001b[39;49m\u001b[38;5;124;43m'\u001b[39;49m\u001b[43m]\u001b[49m\u001b[43m)\u001b[49m\u001b[43m)\u001b[49m\u001b[43m,\u001b[49m\n\u001b[1;32m    181\u001b[0m \u001b[43m           \u001b[49m\u001b[38;5;28;43mfloat\u001b[39;49m\u001b[43m(\u001b[49m\u001b[43mpnutils\u001b[49m\u001b[38;5;241;43m.\u001b[39;49m\u001b[43msolar_mass_to_kg\u001b[49m\u001b[43m(\u001b[49m\u001b[43mp\u001b[49m\u001b[43m[\u001b[49m\u001b[38;5;124;43m'\u001b[39;49m\u001b[38;5;124;43mmass2\u001b[39;49m\u001b[38;5;124;43m'\u001b[39;49m\u001b[43m]\u001b[49m\u001b[43m)\u001b[49m\u001b[43m)\u001b[49m\u001b[43m,\u001b[49m\n\u001b[1;32m    182\u001b[0m \u001b[43m           \u001b[49m\u001b[38;5;28;43mfloat\u001b[39;49m\u001b[43m(\u001b[49m\u001b[43mp\u001b[49m\u001b[43m[\u001b[49m\u001b[38;5;124;43m'\u001b[39;49m\u001b[38;5;124;43mspin1x\u001b[39;49m\u001b[38;5;124;43m'\u001b[39;49m\u001b[43m]\u001b[49m\u001b[43m)\u001b[49m\u001b[43m,\u001b[49m\u001b[43m \u001b[49m\u001b[38;5;28;43mfloat\u001b[39;49m\u001b[43m(\u001b[49m\u001b[43mp\u001b[49m\u001b[43m[\u001b[49m\u001b[38;5;124;43m'\u001b[39;49m\u001b[38;5;124;43mspin1y\u001b[39;49m\u001b[38;5;124;43m'\u001b[39;49m\u001b[43m]\u001b[49m\u001b[43m)\u001b[49m\u001b[43m,\u001b[49m\u001b[43m \u001b[49m\u001b[38;5;28;43mfloat\u001b[39;49m\u001b[43m(\u001b[49m\u001b[43mp\u001b[49m\u001b[43m[\u001b[49m\u001b[38;5;124;43m'\u001b[39;49m\u001b[38;5;124;43mspin1z\u001b[39;49m\u001b[38;5;124;43m'\u001b[39;49m\u001b[43m]\u001b[49m\u001b[43m)\u001b[49m\u001b[43m,\u001b[49m\n\u001b[1;32m    183\u001b[0m \u001b[43m           \u001b[49m\u001b[38;5;28;43mfloat\u001b[39;49m\u001b[43m(\u001b[49m\u001b[43mp\u001b[49m\u001b[43m[\u001b[49m\u001b[38;5;124;43m'\u001b[39;49m\u001b[38;5;124;43mspin2x\u001b[39;49m\u001b[38;5;124;43m'\u001b[39;49m\u001b[43m]\u001b[49m\u001b[43m)\u001b[49m\u001b[43m,\u001b[49m\u001b[43m \u001b[49m\u001b[38;5;28;43mfloat\u001b[39;49m\u001b[43m(\u001b[49m\u001b[43mp\u001b[49m\u001b[43m[\u001b[49m\u001b[38;5;124;43m'\u001b[39;49m\u001b[38;5;124;43mspin2y\u001b[39;49m\u001b[38;5;124;43m'\u001b[39;49m\u001b[43m]\u001b[49m\u001b[43m)\u001b[49m\u001b[43m,\u001b[49m\u001b[43m \u001b[49m\u001b[38;5;28;43mfloat\u001b[39;49m\u001b[43m(\u001b[49m\u001b[43mp\u001b[49m\u001b[43m[\u001b[49m\u001b[38;5;124;43m'\u001b[39;49m\u001b[38;5;124;43mspin2z\u001b[39;49m\u001b[38;5;124;43m'\u001b[39;49m\u001b[43m]\u001b[49m\u001b[43m)\u001b[49m\u001b[43m,\u001b[49m\n\u001b[1;32m    184\u001b[0m \u001b[43m           \u001b[49m\u001b[43mpnutils\u001b[49m\u001b[38;5;241;43m.\u001b[39;49m\u001b[43mmegaparsecs_to_meters\u001b[49m\u001b[43m(\u001b[49m\u001b[38;5;28;43mfloat\u001b[39;49m\u001b[43m(\u001b[49m\u001b[43mp\u001b[49m\u001b[43m[\u001b[49m\u001b[38;5;124;43m'\u001b[39;49m\u001b[38;5;124;43mdistance\u001b[39;49m\u001b[38;5;124;43m'\u001b[39;49m\u001b[43m]\u001b[49m\u001b[43m)\u001b[49m\u001b[43m)\u001b[49m\u001b[43m,\u001b[49m\n\u001b[1;32m    185\u001b[0m \u001b[43m           \u001b[49m\u001b[38;5;28;43mfloat\u001b[39;49m\u001b[43m(\u001b[49m\u001b[43mp\u001b[49m\u001b[43m[\u001b[49m\u001b[38;5;124;43m'\u001b[39;49m\u001b[38;5;124;43minclination\u001b[39;49m\u001b[38;5;124;43m'\u001b[39;49m\u001b[43m]\u001b[49m\u001b[43m)\u001b[49m\u001b[43m,\u001b[49m\u001b[43m \u001b[49m\u001b[38;5;28;43mfloat\u001b[39;49m\u001b[43m(\u001b[49m\u001b[43mp\u001b[49m\u001b[43m[\u001b[49m\u001b[38;5;124;43m'\u001b[39;49m\u001b[38;5;124;43mcoa_phase\u001b[39;49m\u001b[38;5;124;43m'\u001b[39;49m\u001b[43m]\u001b[49m\u001b[43m)\u001b[49m\u001b[43m,\u001b[49m\n\u001b[1;32m    186\u001b[0m \u001b[43m           \u001b[49m\u001b[38;5;28;43mfloat\u001b[39;49m\u001b[43m(\u001b[49m\u001b[43mp\u001b[49m\u001b[43m[\u001b[49m\u001b[38;5;124;43m'\u001b[39;49m\u001b[38;5;124;43mlong_asc_nodes\u001b[39;49m\u001b[38;5;124;43m'\u001b[39;49m\u001b[43m]\u001b[49m\u001b[43m)\u001b[49m\u001b[43m,\u001b[49m\u001b[43m \u001b[49m\u001b[38;5;28;43mfloat\u001b[39;49m\u001b[43m(\u001b[49m\u001b[43mp\u001b[49m\u001b[43m[\u001b[49m\u001b[38;5;124;43m'\u001b[39;49m\u001b[38;5;124;43meccentricity\u001b[39;49m\u001b[38;5;124;43m'\u001b[39;49m\u001b[43m]\u001b[49m\u001b[43m)\u001b[49m\u001b[43m,\u001b[49m\u001b[43m \u001b[49m\u001b[38;5;28;43mfloat\u001b[39;49m\u001b[43m(\u001b[49m\u001b[43mp\u001b[49m\u001b[43m[\u001b[49m\u001b[38;5;124;43m'\u001b[39;49m\u001b[38;5;124;43mmean_per_ano\u001b[39;49m\u001b[38;5;124;43m'\u001b[39;49m\u001b[43m]\u001b[49m\u001b[43m)\u001b[49m\u001b[43m,\u001b[49m\n\u001b[1;32m    187\u001b[0m \u001b[43m           \u001b[49m\u001b[38;5;28;43mfloat\u001b[39;49m\u001b[43m(\u001b[49m\u001b[43mp\u001b[49m\u001b[43m[\u001b[49m\u001b[38;5;124;43m'\u001b[39;49m\u001b[38;5;124;43mdelta_t\u001b[39;49m\u001b[38;5;124;43m'\u001b[39;49m\u001b[43m]\u001b[49m\u001b[43m)\u001b[49m\u001b[43m,\u001b[49m\u001b[43m \u001b[49m\u001b[38;5;28;43mfloat\u001b[39;49m\u001b[43m(\u001b[49m\u001b[43mp\u001b[49m\u001b[43m[\u001b[49m\u001b[38;5;124;43m'\u001b[39;49m\u001b[38;5;124;43mf_lower\u001b[39;49m\u001b[38;5;124;43m'\u001b[39;49m\u001b[43m]\u001b[49m\u001b[43m)\u001b[49m\u001b[43m,\u001b[49m\u001b[43m \u001b[49m\u001b[38;5;28;43mfloat\u001b[39;49m\u001b[43m(\u001b[49m\u001b[43mp\u001b[49m\u001b[43m[\u001b[49m\u001b[38;5;124;43m'\u001b[39;49m\u001b[38;5;124;43mf_ref\u001b[39;49m\u001b[38;5;124;43m'\u001b[39;49m\u001b[43m]\u001b[49m\u001b[43m)\u001b[49m\u001b[43m,\u001b[49m\n\u001b[1;32m    188\u001b[0m \u001b[43m           \u001b[49m\u001b[43mlal_pars\u001b[49m\u001b[43m,\u001b[49m\n\u001b[1;32m    189\u001b[0m \u001b[43m           \u001b[49m\u001b[43m_lalsim_enum\u001b[49m\u001b[43m[\u001b[49m\u001b[43mp\u001b[49m\u001b[43m[\u001b[49m\u001b[38;5;124;43m'\u001b[39;49m\u001b[38;5;124;43mapproximant\u001b[39;49m\u001b[38;5;124;43m'\u001b[39;49m\u001b[43m]\u001b[49m\u001b[43m]\u001b[49m\u001b[43m)\u001b[49m\n\u001b[1;32m    190\u001b[0m \u001b[38;5;28;01mexcept\u001b[39;00m \u001b[38;5;167;01mRuntimeError\u001b[39;00m:\n\u001b[1;32m    191\u001b[0m     \u001b[38;5;28;01mif\u001b[39;00m \u001b[38;5;129;01mnot\u001b[39;00m fail_tolerant_waveform_generation:\n",
      "\u001b[0;31mRuntimeError\u001b[0m: Internal function call failed: Invalid argument"
     ]
    }
   ],
   "source": [
    "for i in tqdm(range(numsample)):\n",
    "    Mc=np.random.uniform(1e6, 1e8)\n",
    "    q=np.random.uniform(0.01, 1)\n",
    "    a1=np.random.uniform(-0.99, 0.99)\n",
    "    a2=np.random.uniform(-0.99, 0.99)\n",
    "    tc = 140000\n",
    "    phic=np.random.uniform(0, 2*np.pi)\n",
    "    inc=np.random.uniform(0, np.pi)\n",
    "    psi=np.random.uniform(0, np.pi)\n",
    "    lam = np.random.uniform(0, 2 * np.pi) \n",
    "    beta = np.random.uniform(-np.pi / 2, np.pi / 2)\n",
    "\n",
    "    # distance\n",
    "    dgpc = np.random.uniform(10, 15)\n",
    "    D = dgpc*1000\n",
    "\n",
    "    chans = mbhb_taiji(Mc, q, a1, a2, tc, phic, D, inc, psi, lam, beta, dt=dt)\n",
    "\n",
    "    # cut the error data\n",
    "    # times = np.arange(len(chans[0])) * dt + t0\n",
    "    # chans = CutJumpPointsForTDI2(chans, Mc, tc, times)\n",
    "    \n",
    "    chans = cp.array(chans[0])\n",
    "    chans_numpy = chans.get()\n",
    "    raw_signal = chans_numpy\n",
    "    raw_noise = NoiseFromPSD(psd_func, t)\n",
    "    whiten_signal = whiten_data(chans_numpy, psd_signal)\n",
    "    whiten_noise = whiten_data(raw_noise, psd_signal)\n",
    "\n",
    "    # rescale to target snr\n",
    "    now_snr = get_whiten_mf_snr(whiten_signal, total_len*10)\n",
    "    target_snr = 50\n",
    "\n",
    "    # log in tqdm\n",
    "    print(f\"now_snr: {now_snr}, target_snr: {target_snr}\")\n",
    "\n",
    "\n",
    "    whiten_signal = whiten_signal * target_snr / now_snr\n",
    "\n",
    "    np.save(f'../data/GW/clean/{i}.npy', whiten_signal)\n",
    "    np.save(f'../data/GW/noisy/{i}.npy', whiten_signal + whiten_noise)\n"
   ]
  },
  {
   "cell_type": "code",
   "execution_count": null,
   "metadata": {},
   "outputs": [],
   "source": []
  },
  {
   "cell_type": "code",
   "execution_count": null,
   "metadata": {},
   "outputs": [],
   "source": []
  }
 ],
 "metadata": {
  "kernelspec": {
   "display_name": "cppcuda",
   "language": "python",
   "name": "python3"
  },
  "language_info": {
   "codemirror_mode": {
    "name": "ipython",
    "version": 3
   },
   "file_extension": ".py",
   "mimetype": "text/x-python",
   "name": "python",
   "nbconvert_exporter": "python",
   "pygments_lexer": "ipython3",
   "version": "3.9.19"
  }
 },
 "nbformat": 4,
 "nbformat_minor": 2
}
